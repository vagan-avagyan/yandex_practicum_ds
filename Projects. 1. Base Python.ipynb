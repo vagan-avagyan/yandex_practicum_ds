{
 "cells": [
  {
   "cell_type": "markdown",
   "metadata": {
    "id": "E0vqbgi9ay0H"
   },
   "source": [
    "# Базовый Python\n",
    "# Проект: Музыка больших городов"
   ]
  },
  {
   "cell_type": "markdown",
   "metadata": {},
   "source": [
    "## 1. Постановка задачи\n",
    "\n",
    "Сравнение Москвы и Петербурга окружено мифами:\n",
    " - Москва — мегаполис, подчинённый жёсткому ритму рабочей недели;\n",
    " - Петербург — город своеобразной культуры, непохожий на Москву.\n",
    "\n",
    "Некоторые мифы отражают действительность. Другие — пустые стереотипы. Бизнес должен отличать первые от вторых, чтобы принимать рациональные решения. На реальных данных Яндекс Музыки вы проверите гипотезы и сравните поведение пользователей двух столиц.\n",
    "\n",
    "### Гипотезы:\n",
    "1. Активность пользователей зависит от дня недели. Причём в Москве и Петербурге это проявляется по-разному.\n",
    "2. Утром в понедельник в Москве преобладают одни жанры музыки, а в Петербурге — другие. Это верно и для вечера пятницы.\n",
    "3. Москва и Петербург предпочитают разные жанры музыки. В Москве чаще слушают поп-музыку, в Петербурге — русский рэп.\n",
    "\n",
    "### Данные \n",
    "\n",
    "Данные хранятся в файле `yandex_music_project.csv`. Скачать датасет можно здесь.\n",
    "\n",
    "**Описание колонок:**\n",
    " - `userID` — идентификатор пользователя;\n",
    " - `Track` — название трека;\n",
    " - `artist` — имя исполнителя;\n",
    " - `genre` — название жанра;\n",
    " - `City` — город пользователя;\n",
    " - `time` — время начала прослушивания;\n",
    " - `Day` — день недели.\n",
    "\n",
    "### Ревью проекта\n",
    "\n",
    "Вашу работу проверит ревьюер — опытный аналитик. Он поможет улучшить проект.\n",
    "Для этого ревьюер оценит:\n",
    "результаты каждого задания,\n",
    "соблюдение правил синтаксиса Python,\n",
    "стиль кода.\n",
    "\n",
    "В течение суток ревьер вернётся с обратной связью. Например, предложит упростить сложную конструкцию в коде. Тогда вы сможете доработать проект и отправить ревьюеру обновлённый вариант.\n",
    "\n",
    "Проект завершён, когда засчитаны все исправления.\n",
    "\n",
    "Обратите внимание, что при запуске ячеек тетрадки в произвольном порядке вы можете столкнуться с ошибками. Например, в том случае, если попытаетесь получить объект, который в данный момент не загружен в память. Прежде чем обращаться к ревьюеру или преподавателю, попробуйте выгрузить все объекты из памяти и перезапустить весь код. Сделать это можно в Jupyter Notebook с помощью команды `Kernel` → `Restart & Run All`."
   ]
  },
  {
   "cell_type": "markdown",
   "metadata": {},
   "source": [
    "Проект выполняется в пять этапов:\n",
    "\n",
    "2. \n",
    "3. Предобработка данных\n",
    "4. Анализ данных\n",
    "5. Оформление результатов\n"
   ]
  },
  {
   "cell_type": "markdown",
   "metadata": {
    "id": "Ml1hmfXC_Zcs"
   },
   "source": [
    "## 2. Получение данных"
   ]
  },
  {
   "cell_type": "code",
   "execution_count": 4,
   "metadata": {
    "id": "AXN7PHPN_Zcs"
   },
   "outputs": [],
   "source": [
    "import pandas as pd"
   ]
  },
  {
   "cell_type": "code",
   "execution_count": 11,
   "metadata": {
    "id": "fFVu7vqh_Zct"
   },
   "outputs": [
    {
     "data": {
      "application/vnd.microsoft.datawrangler.viewer.v0+json": {
       "columns": [
        {
         "name": "index",
         "rawType": "int64",
         "type": "integer"
        },
        {
         "name": "  userID",
         "rawType": "object",
         "type": "string"
        },
        {
         "name": "Track",
         "rawType": "object",
         "type": "string"
        },
        {
         "name": "artist",
         "rawType": "object",
         "type": "unknown"
        },
        {
         "name": "genre",
         "rawType": "object",
         "type": "string"
        },
        {
         "name": "  City  ",
         "rawType": "object",
         "type": "string"
        },
        {
         "name": "time",
         "rawType": "object",
         "type": "string"
        },
        {
         "name": "Day",
         "rawType": "object",
         "type": "string"
        }
       ],
       "ref": "0108285a-9b4e-4b97-a999-574cf4407d4e",
       "rows": [
        [
         "0",
         "FFB692EC",
         "Kamigata To Boots",
         "The Mass Missile",
         "rock",
         "Saint-Petersburg",
         "20:28:33",
         "Wednesday"
        ],
        [
         "1",
         "55204538",
         "Delayed Because of Accident",
         "Andreas Rönnberg",
         "rock",
         "Moscow",
         "14:07:09",
         "Friday"
        ],
        [
         "2",
         "20EC38",
         "Funiculì funiculà",
         "Mario Lanza",
         "pop",
         "Saint-Petersburg",
         "20:58:07",
         "Wednesday"
        ],
        [
         "3",
         "A3DD03C9",
         "Dragons in the Sunset",
         "Fire + Ice",
         "folk",
         "Saint-Petersburg",
         "08:37:09",
         "Monday"
        ],
        [
         "4",
         "E2DC1FAE",
         "Soul People",
         "Space Echo",
         "dance",
         "Moscow",
         "08:34:34",
         "Monday"
        ],
        [
         "5",
         "842029A1",
         "Преданная",
         "IMPERVTOR",
         "rusrap",
         "Saint-Petersburg",
         "13:09:41",
         "Friday"
        ],
        [
         "6",
         "4CB90AA5",
         "True",
         "Roman Messer",
         "dance",
         "Moscow",
         "13:00:07",
         "Wednesday"
        ],
        [
         "7",
         "F03E1C1F",
         "Feeling This Way",
         "Polina Griffith",
         "dance",
         "Moscow",
         "20:47:49",
         "Wednesday"
        ],
        [
         "8",
         "8FA1D3BE",
         "И вновь продолжается бой",
         null,
         "ruspop",
         "Moscow",
         "09:17:40",
         "Friday"
        ],
        [
         "9",
         "E772D5C0",
         "Pessimist",
         null,
         "dance",
         "Saint-Petersburg",
         "21:20:49",
         "Wednesday"
        ]
       ],
       "shape": {
        "columns": 7,
        "rows": 10
       }
      },
      "text/html": [
       "<div>\n",
       "<style scoped>\n",
       "    .dataframe tbody tr th:only-of-type {\n",
       "        vertical-align: middle;\n",
       "    }\n",
       "\n",
       "    .dataframe tbody tr th {\n",
       "        vertical-align: top;\n",
       "    }\n",
       "\n",
       "    .dataframe thead th {\n",
       "        text-align: right;\n",
       "    }\n",
       "</style>\n",
       "<table border=\"1\" class=\"dataframe\">\n",
       "  <thead>\n",
       "    <tr style=\"text-align: right;\">\n",
       "      <th></th>\n",
       "      <th>userID</th>\n",
       "      <th>Track</th>\n",
       "      <th>artist</th>\n",
       "      <th>genre</th>\n",
       "      <th>City</th>\n",
       "      <th>time</th>\n",
       "      <th>Day</th>\n",
       "    </tr>\n",
       "  </thead>\n",
       "  <tbody>\n",
       "    <tr>\n",
       "      <th>0</th>\n",
       "      <td>FFB692EC</td>\n",
       "      <td>Kamigata To Boots</td>\n",
       "      <td>The Mass Missile</td>\n",
       "      <td>rock</td>\n",
       "      <td>Saint-Petersburg</td>\n",
       "      <td>20:28:33</td>\n",
       "      <td>Wednesday</td>\n",
       "    </tr>\n",
       "    <tr>\n",
       "      <th>1</th>\n",
       "      <td>55204538</td>\n",
       "      <td>Delayed Because of Accident</td>\n",
       "      <td>Andreas Rönnberg</td>\n",
       "      <td>rock</td>\n",
       "      <td>Moscow</td>\n",
       "      <td>14:07:09</td>\n",
       "      <td>Friday</td>\n",
       "    </tr>\n",
       "    <tr>\n",
       "      <th>2</th>\n",
       "      <td>20EC38</td>\n",
       "      <td>Funiculì funiculà</td>\n",
       "      <td>Mario Lanza</td>\n",
       "      <td>pop</td>\n",
       "      <td>Saint-Petersburg</td>\n",
       "      <td>20:58:07</td>\n",
       "      <td>Wednesday</td>\n",
       "    </tr>\n",
       "    <tr>\n",
       "      <th>3</th>\n",
       "      <td>A3DD03C9</td>\n",
       "      <td>Dragons in the Sunset</td>\n",
       "      <td>Fire + Ice</td>\n",
       "      <td>folk</td>\n",
       "      <td>Saint-Petersburg</td>\n",
       "      <td>08:37:09</td>\n",
       "      <td>Monday</td>\n",
       "    </tr>\n",
       "    <tr>\n",
       "      <th>4</th>\n",
       "      <td>E2DC1FAE</td>\n",
       "      <td>Soul People</td>\n",
       "      <td>Space Echo</td>\n",
       "      <td>dance</td>\n",
       "      <td>Moscow</td>\n",
       "      <td>08:34:34</td>\n",
       "      <td>Monday</td>\n",
       "    </tr>\n",
       "    <tr>\n",
       "      <th>5</th>\n",
       "      <td>842029A1</td>\n",
       "      <td>Преданная</td>\n",
       "      <td>IMPERVTOR</td>\n",
       "      <td>rusrap</td>\n",
       "      <td>Saint-Petersburg</td>\n",
       "      <td>13:09:41</td>\n",
       "      <td>Friday</td>\n",
       "    </tr>\n",
       "    <tr>\n",
       "      <th>6</th>\n",
       "      <td>4CB90AA5</td>\n",
       "      <td>True</td>\n",
       "      <td>Roman Messer</td>\n",
       "      <td>dance</td>\n",
       "      <td>Moscow</td>\n",
       "      <td>13:00:07</td>\n",
       "      <td>Wednesday</td>\n",
       "    </tr>\n",
       "    <tr>\n",
       "      <th>7</th>\n",
       "      <td>F03E1C1F</td>\n",
       "      <td>Feeling This Way</td>\n",
       "      <td>Polina Griffith</td>\n",
       "      <td>dance</td>\n",
       "      <td>Moscow</td>\n",
       "      <td>20:47:49</td>\n",
       "      <td>Wednesday</td>\n",
       "    </tr>\n",
       "    <tr>\n",
       "      <th>8</th>\n",
       "      <td>8FA1D3BE</td>\n",
       "      <td>И вновь продолжается бой</td>\n",
       "      <td>NaN</td>\n",
       "      <td>ruspop</td>\n",
       "      <td>Moscow</td>\n",
       "      <td>09:17:40</td>\n",
       "      <td>Friday</td>\n",
       "    </tr>\n",
       "    <tr>\n",
       "      <th>9</th>\n",
       "      <td>E772D5C0</td>\n",
       "      <td>Pessimist</td>\n",
       "      <td>NaN</td>\n",
       "      <td>dance</td>\n",
       "      <td>Saint-Petersburg</td>\n",
       "      <td>21:20:49</td>\n",
       "      <td>Wednesday</td>\n",
       "    </tr>\n",
       "  </tbody>\n",
       "</table>\n",
       "</div>"
      ],
      "text/plain": [
       "     userID                        Track            artist   genre  \\\n",
       "0  FFB692EC            Kamigata To Boots  The Mass Missile    rock   \n",
       "1  55204538  Delayed Because of Accident  Andreas Rönnberg    rock   \n",
       "2    20EC38            Funiculì funiculà       Mario Lanza     pop   \n",
       "3  A3DD03C9        Dragons in the Sunset        Fire + Ice    folk   \n",
       "4  E2DC1FAE                  Soul People        Space Echo   dance   \n",
       "5  842029A1                    Преданная         IMPERVTOR  rusrap   \n",
       "6  4CB90AA5                         True      Roman Messer   dance   \n",
       "7  F03E1C1F             Feeling This Way   Polina Griffith   dance   \n",
       "8  8FA1D3BE     И вновь продолжается бой               NaN  ruspop   \n",
       "9  E772D5C0                    Pessimist               NaN   dance   \n",
       "\n",
       "             City        time        Day  \n",
       "0  Saint-Petersburg  20:28:33  Wednesday  \n",
       "1            Moscow  14:07:09     Friday  \n",
       "2  Saint-Petersburg  20:58:07  Wednesday  \n",
       "3  Saint-Petersburg  08:37:09     Monday  \n",
       "4            Moscow  08:34:34     Monday  \n",
       "5  Saint-Petersburg  13:09:41     Friday  \n",
       "6            Moscow  13:00:07  Wednesday  \n",
       "7            Moscow  20:47:49  Wednesday  \n",
       "8            Moscow  09:17:40     Friday  \n",
       "9  Saint-Petersburg  21:20:49  Wednesday  "
      ]
     },
     "execution_count": 11,
     "metadata": {},
     "output_type": "execute_result"
    }
   ],
   "source": [
    "df = pd.read_csv('data/yandex_music_project.csv')\n",
    "\n",
    "df.head(10)"
   ]
  },
  {
   "cell_type": "code",
   "execution_count": null,
   "metadata": {
    "id": "oWTVX3gW_Zct"
   },
   "outputs": [
    {
     "data": {
      "text/html": [
       "<div>\n",
       "<style scoped>\n",
       "    .dataframe tbody tr th:only-of-type {\n",
       "        vertical-align: middle;\n",
       "    }\n",
       "\n",
       "    .dataframe tbody tr th {\n",
       "        vertical-align: top;\n",
       "    }\n",
       "\n",
       "    .dataframe thead th {\n",
       "        text-align: right;\n",
       "    }\n",
       "</style>\n",
       "<table border=\"1\" class=\"dataframe\">\n",
       "  <thead>\n",
       "    <tr style=\"text-align: right;\">\n",
       "      <th></th>\n",
       "      <th>userID</th>\n",
       "      <th>Track</th>\n",
       "      <th>artist</th>\n",
       "      <th>genre</th>\n",
       "      <th>City</th>\n",
       "      <th>time</th>\n",
       "      <th>Day</th>\n",
       "    </tr>\n",
       "  </thead>\n",
       "  <tbody>\n",
       "    <tr>\n",
       "      <td>0</td>\n",
       "      <td>FFB692EC</td>\n",
       "      <td>Kamigata To Boots</td>\n",
       "      <td>The Mass Missile</td>\n",
       "      <td>rock</td>\n",
       "      <td>Saint-Petersburg</td>\n",
       "      <td>20:28:33</td>\n",
       "      <td>Wednesday</td>\n",
       "    </tr>\n",
       "    <tr>\n",
       "      <td>1</td>\n",
       "      <td>55204538</td>\n",
       "      <td>Delayed Because of Accident</td>\n",
       "      <td>Andreas Rönnberg</td>\n",
       "      <td>rock</td>\n",
       "      <td>Moscow</td>\n",
       "      <td>14:07:09</td>\n",
       "      <td>Friday</td>\n",
       "    </tr>\n",
       "    <tr>\n",
       "      <td>2</td>\n",
       "      <td>20EC38</td>\n",
       "      <td>Funiculì funiculà</td>\n",
       "      <td>Mario Lanza</td>\n",
       "      <td>pop</td>\n",
       "      <td>Saint-Petersburg</td>\n",
       "      <td>20:58:07</td>\n",
       "      <td>Wednesday</td>\n",
       "    </tr>\n",
       "    <tr>\n",
       "      <td>3</td>\n",
       "      <td>A3DD03C9</td>\n",
       "      <td>Dragons in the Sunset</td>\n",
       "      <td>Fire + Ice</td>\n",
       "      <td>folk</td>\n",
       "      <td>Saint-Petersburg</td>\n",
       "      <td>08:37:09</td>\n",
       "      <td>Monday</td>\n",
       "    </tr>\n",
       "    <tr>\n",
       "      <td>4</td>\n",
       "      <td>E2DC1FAE</td>\n",
       "      <td>Soul People</td>\n",
       "      <td>Space Echo</td>\n",
       "      <td>dance</td>\n",
       "      <td>Moscow</td>\n",
       "      <td>08:34:34</td>\n",
       "      <td>Monday</td>\n",
       "    </tr>\n",
       "    <tr>\n",
       "      <td>5</td>\n",
       "      <td>842029A1</td>\n",
       "      <td>Преданная</td>\n",
       "      <td>IMPERVTOR</td>\n",
       "      <td>rusrap</td>\n",
       "      <td>Saint-Petersburg</td>\n",
       "      <td>13:09:41</td>\n",
       "      <td>Friday</td>\n",
       "    </tr>\n",
       "    <tr>\n",
       "      <td>6</td>\n",
       "      <td>4CB90AA5</td>\n",
       "      <td>True</td>\n",
       "      <td>Roman Messer</td>\n",
       "      <td>dance</td>\n",
       "      <td>Moscow</td>\n",
       "      <td>13:00:07</td>\n",
       "      <td>Wednesday</td>\n",
       "    </tr>\n",
       "    <tr>\n",
       "      <td>7</td>\n",
       "      <td>F03E1C1F</td>\n",
       "      <td>Feeling This Way</td>\n",
       "      <td>Polina Griffith</td>\n",
       "      <td>dance</td>\n",
       "      <td>Moscow</td>\n",
       "      <td>20:47:49</td>\n",
       "      <td>Wednesday</td>\n",
       "    </tr>\n",
       "    <tr>\n",
       "      <td>8</td>\n",
       "      <td>8FA1D3BE</td>\n",
       "      <td>И вновь продолжается бой</td>\n",
       "      <td>NaN</td>\n",
       "      <td>ruspop</td>\n",
       "      <td>Moscow</td>\n",
       "      <td>09:17:40</td>\n",
       "      <td>Friday</td>\n",
       "    </tr>\n",
       "    <tr>\n",
       "      <td>9</td>\n",
       "      <td>E772D5C0</td>\n",
       "      <td>Pessimist</td>\n",
       "      <td>NaN</td>\n",
       "      <td>dance</td>\n",
       "      <td>Saint-Petersburg</td>\n",
       "      <td>21:20:49</td>\n",
       "      <td>Wednesday</td>\n",
       "    </tr>\n",
       "  </tbody>\n",
       "</table>\n",
       "</div>"
      ],
      "text/plain": [
       "     userID                        Track            artist   genre  \\\n",
       "0  FFB692EC            Kamigata To Boots  The Mass Missile    rock   \n",
       "1  55204538  Delayed Because of Accident  Andreas Rönnberg    rock   \n",
       "2    20EC38            Funiculì funiculà       Mario Lanza     pop   \n",
       "3  A3DD03C9        Dragons in the Sunset        Fire + Ice    folk   \n",
       "4  E2DC1FAE                  Soul People        Space Echo   dance   \n",
       "5  842029A1                    Преданная         IMPERVTOR  rusrap   \n",
       "6  4CB90AA5                         True      Roman Messer   dance   \n",
       "7  F03E1C1F             Feeling This Way   Polina Griffith   dance   \n",
       "8  8FA1D3BE     И вновь продолжается бой               NaN  ruspop   \n",
       "9  E772D5C0                    Pessimist               NaN   dance   \n",
       "\n",
       "             City        time        Day  \n",
       "0  Saint-Petersburg  20:28:33  Wednesday  \n",
       "1            Moscow  14:07:09     Friday  \n",
       "2  Saint-Petersburg  20:58:07  Wednesday  \n",
       "3  Saint-Petersburg  08:37:09     Monday  \n",
       "4            Moscow  08:34:34     Monday  \n",
       "5  Saint-Petersburg  13:09:41     Friday  \n",
       "6            Moscow  13:00:07  Wednesday  \n",
       "7            Moscow  20:47:49  Wednesday  \n",
       "8            Moscow  09:17:40     Friday  \n",
       "9  Saint-Petersburg  21:20:49  Wednesday  "
      ]
     },
     "metadata": {},
     "output_type": "display_data"
    }
   ],
   "source": []
  },
  {
   "cell_type": "markdown",
   "metadata": {},
   "source": [
    "<div class=\"alert alert-success\" style=\"border-radius: 15px; box-shadow: 4px 4px 4px; border: 1px solid \">\n",
    "<h2> Комментарий ревьюера</h2>\n",
    "    \n",
    "Правильно делаешь, что  используешь метод **display**. Обрати внимание на то, что команда на вывод в ячейке одна, поэтому можно сразу писать ```df.head(10)```. Другое дело, когда у нас несколько таблиц выводится в одной ячейке. Тут без **display** не обойтись, поскольку отработает только последний вывод:\n",
    "</div>"
   ]
  },
  {
   "cell_type": "code",
   "execution_count": 5,
   "metadata": {},
   "outputs": [
    {
     "data": {
      "text/html": [
       "<div>\n",
       "<style scoped>\n",
       "    .dataframe tbody tr th:only-of-type {\n",
       "        vertical-align: middle;\n",
       "    }\n",
       "\n",
       "    .dataframe tbody tr th {\n",
       "        vertical-align: top;\n",
       "    }\n",
       "\n",
       "    .dataframe thead th {\n",
       "        text-align: right;\n",
       "    }\n",
       "</style>\n",
       "<table border=\"1\" class=\"dataframe\">\n",
       "  <thead>\n",
       "    <tr style=\"text-align: right;\">\n",
       "      <th></th>\n",
       "      <th>userID</th>\n",
       "      <th>Track</th>\n",
       "      <th>artist</th>\n",
       "      <th>genre</th>\n",
       "      <th>City</th>\n",
       "      <th>time</th>\n",
       "      <th>Day</th>\n",
       "    </tr>\n",
       "  </thead>\n",
       "  <tbody>\n",
       "    <tr>\n",
       "      <td>0</td>\n",
       "      <td>FFB692EC</td>\n",
       "      <td>Kamigata To Boots</td>\n",
       "      <td>The Mass Missile</td>\n",
       "      <td>rock</td>\n",
       "      <td>Saint-Petersburg</td>\n",
       "      <td>20:28:33</td>\n",
       "      <td>Wednesday</td>\n",
       "    </tr>\n",
       "    <tr>\n",
       "      <td>1</td>\n",
       "      <td>55204538</td>\n",
       "      <td>Delayed Because of Accident</td>\n",
       "      <td>Andreas Rönnberg</td>\n",
       "      <td>rock</td>\n",
       "      <td>Moscow</td>\n",
       "      <td>14:07:09</td>\n",
       "      <td>Friday</td>\n",
       "    </tr>\n",
       "  </tbody>\n",
       "</table>\n",
       "</div>"
      ],
      "text/plain": [
       "     userID                        Track            artist genre  \\\n",
       "0  FFB692EC            Kamigata To Boots  The Mass Missile  rock   \n",
       "1  55204538  Delayed Because of Accident  Andreas Rönnberg  rock   \n",
       "\n",
       "             City        time        Day  \n",
       "0  Saint-Petersburg  20:28:33  Wednesday  \n",
       "1            Moscow  14:07:09     Friday  "
      ]
     },
     "execution_count": 5,
     "metadata": {},
     "output_type": "execute_result"
    }
   ],
   "source": [
    "# КОД РЕВЬЮЕРА\n",
    "\n",
    "df.head(10)\n",
    "df.head(6)\n",
    "df.head(2)"
   ]
  },
  {
   "cell_type": "markdown",
   "metadata": {
    "id": "EO73Kwic_Zct"
   },
   "source": [
    "Одной командой получить общую информацию о таблице:"
   ]
  },
  {
   "cell_type": "code",
   "execution_count": 6,
   "metadata": {
    "id": "DSf2kIb-_Zct"
   },
   "outputs": [
    {
     "name": "stdout",
     "output_type": "stream",
     "text": [
      "<class 'pandas.core.frame.DataFrame'>\n",
      "RangeIndex: 65079 entries, 0 to 65078\n",
      "Data columns (total 7 columns):\n",
      "  userID    65079 non-null object\n",
      "Track       63848 non-null object\n",
      "artist      57876 non-null object\n",
      "genre       63881 non-null object\n",
      "  City      65079 non-null object\n",
      "time        65079 non-null object\n",
      "Day         65079 non-null object\n",
      "dtypes: object(7)\n",
      "memory usage: 3.5+ MB\n"
     ]
    }
   ],
   "source": [
    "# получение общей информации о данных в таблице df\n",
    "df.info()"
   ]
  },
  {
   "cell_type": "markdown",
   "metadata": {
    "id": "TaQ2Iwbr_Zct"
   },
   "source": [
    "Итак, в таблице семь столбцов. Тип данных во всех столбцах — `object`.\n",
    "\n",
    "Согласно документации к данным:\n",
    "* `userID` — идентификатор пользователя;\n",
    "* `Track` — название трека;  \n",
    "* `artist` — имя исполнителя;\n",
    "* `genre` — название жанра;\n",
    "* `City` — город пользователя;\n",
    "* `time` — время начала прослушивания;\n",
    "* `Day` — день недели.\n",
    "\n",
    "В названиях колонок видны три нарушения стиля:\n",
    "1. Строчные буквы сочетаются с прописными.\n",
    "2. Встречаются пробелы.\n",
    "3. Найдите ещё одну проблему в названии колонок и опишите её в этом пункте:\n",
    "    * Данные записаны в стиле camelCase, необходимо перевести в snake_case\n",
    "\n",
    "\n",
    "\n",
    "Количество значений в столбцах различается. Значит, в данных есть пропущенные значения.\n"
   ]
  },
  {
   "cell_type": "markdown",
   "metadata": {},
   "source": [
    "<div class=\"alert alert-success\" style=\"border-radius: 15px; box-shadow: 4px 4px 4px; border: 1px solid \">\n",
    "<h2> Комментарий ревьюера </h2>\n",
    "    \n",
    "Верно, лучше использовать нижние подчеркивания. Это сейчас может показаться ерундой, но, поверь, когда читаешь на гитхабе чей-то код или исходный код какой-нибудь библиотеки, а там огромное число трудночитаемых переменных, устаешь просто моментально. Поэтому есть общепринятый стиль, который упрощает чтение кода. Всякий программист или аналитик вынужден читать чужой код. Либо чтобы подсмотреть реализацию той или иной идеи, либо чтобы разобраться в том, как методы работают в той или иной библиотеке, либо работая в команде. \n",
    "</div>"
   ]
  },
  {
   "cell_type": "markdown",
   "metadata": {
    "id": "MCB6-dXG_Zct"
   },
   "source": [
    "**Выводы**\n",
    "\n",
    "В каждой строке таблицы — данные о прослушанном треке. Часть колонок описывает саму композицию: название, исполнителя и жанр. Остальные данные рассказывают о пользователе: из какого он города, когда он слушал музыку. \n",
    "\n",
    "Предварительно можно утверждать, что, данных достаточно для проверки гипотез. Но встречаются пропуски в данных, а в названиях колонок — расхождения с хорошим стилем.\n",
    "\n",
    "Чтобы двигаться дальше, нужно устранить проблемы в данных."
   ]
  },
  {
   "cell_type": "markdown",
   "metadata": {},
   "source": [
    "<div class=\"alert alert-success\" style=\"border-radius: 15px; box-shadow: 4px 4px 4px; border: 1px solid \">\n",
    "<h2> Комментарий ревьюера</h2>\n",
    "    \n",
    "Предварительная оценка это неотъемлемая часть работы с данными. В следующих работах тоже не стоит забывать про промежуточные выводы.\n",
    "</div>"
   ]
  },
  {
   "cell_type": "markdown",
   "metadata": {
    "id": "SjYF6Ub9_Zct"
   },
   "source": [
    "## Предобработка данных\n",
    "Исправьте стиль в заголовках столбцов, исключите пропуски. Затем проверьте данные на дубликаты."
   ]
  },
  {
   "cell_type": "markdown",
   "metadata": {
    "id": "dIaKXr29_Zct"
   },
   "source": [
    "### Стиль заголовков\n",
    "Выведите на экран названия столбцов:"
   ]
  },
  {
   "cell_type": "code",
   "execution_count": 7,
   "metadata": {
    "id": "oKOTdF_Q_Zct"
   },
   "outputs": [
    {
     "name": "stdout",
     "output_type": "stream",
     "text": [
      "Index(['  userID', 'Track', 'artist', 'genre', '  City  ', 'time', 'Day'], dtype='object')\n"
     ]
    }
   ],
   "source": [
    "# перечень названий столбцов таблицы df\n",
    "print(df.columns)"
   ]
  },
  {
   "cell_type": "markdown",
   "metadata": {
    "id": "zj5534cv_Zct"
   },
   "source": [
    "Приведите названия в соответствие с хорошим стилем:\n",
    "* несколько слов в названии запишите в «змеином_регистре»,\n",
    "* все символы сделайте строчными,\n",
    "* устраните пробелы.\n",
    "\n",
    "Для этого переименуйте колонки так:\n",
    "* `'  userID'` → `'user_id'`;\n",
    "* `'Track'` → `'track'`;\n",
    "* `'  City  '` → `'city'`;\n",
    "* `'Day'` → `'day'`."
   ]
  },
  {
   "cell_type": "code",
   "execution_count": 8,
   "metadata": {
    "id": "ISlFqs5y_Zct"
   },
   "outputs": [],
   "source": [
    "# переименование столбцов\n",
    "df = df.rename(columns={'  userID': 'user_id', 'Track': 'track', '  City  ': 'city', 'Day': 'day'}) "
   ]
  },
  {
   "cell_type": "markdown",
   "metadata": {
    "id": "1dqbh00J_Zct"
   },
   "source": [
    "Проверьте результат. Для этого ещё раз выведите на экран названия столбцов:"
   ]
  },
  {
   "cell_type": "code",
   "execution_count": 9,
   "metadata": {
    "id": "d4NOAmTW_Zct"
   },
   "outputs": [
    {
     "name": "stdout",
     "output_type": "stream",
     "text": [
      "Index(['user_id', 'track', 'artist', 'genre', 'city', 'time', 'day'], dtype='object')\n"
     ]
    }
   ],
   "source": [
    "# проверка результатов - перечень названий столбцов\n",
    "print(df.columns)"
   ]
  },
  {
   "cell_type": "markdown",
   "metadata": {
    "id": "5ISfbcfY_Zct"
   },
   "source": [
    "### Пропуски значений\n",
    "Сначала посчитайте, сколько в таблице пропущенных значений. Для этого достаточно двух методов `pandas`:"
   ]
  },
  {
   "cell_type": "code",
   "execution_count": 10,
   "metadata": {
    "id": "RskX29qr_Zct"
   },
   "outputs": [
    {
     "name": "stdout",
     "output_type": "stream",
     "text": [
      "user_id       0\n",
      "track      1231\n",
      "artist     7203\n",
      "genre      1198\n",
      "city          0\n",
      "time          0\n",
      "day           0\n",
      "dtype: int64\n"
     ]
    }
   ],
   "source": [
    "# подсчёт пропусков\n",
    "print(df.isna().sum())"
   ]
  },
  {
   "cell_type": "markdown",
   "metadata": {
    "id": "qubhgnlO_Zct"
   },
   "source": [
    "Не все пропущенные значения влияют на исследование. Так в `track` и `artist` пропуски не важны для вашей работы. Достаточно заменить их явными обозначениями.\n",
    "\n",
    "Но пропуски в `genre` могут помешать сравнению музыкальных вкусов в Москве и Санкт-Петербурге. На практике было бы правильно установить причину пропусков и восстановить данные. Такой возможности нет в учебном проекте. Придётся:\n",
    "* заполнить и эти пропуски явными обозначениями,\n",
    "* оценить, насколько они повредят расчётам. "
   ]
  },
  {
   "cell_type": "markdown",
   "metadata": {
    "id": "fSv2laPA_Zct"
   },
   "source": [
    "Замените пропущенные значения в столбцах `track`, `artist` и `genre` на строку `'unknown'`. Для этого создайте список `columns_to_replace`, переберите его элементы циклом `for` и для каждого столбца выполните замену пропущенных значений:"
   ]
  },
  {
   "cell_type": "code",
   "execution_count": 11,
   "metadata": {
    "id": "KplB5qWs_Zct"
   },
   "outputs": [],
   "source": [
    "# перебор названий столбцов в цикле и замена пропущенных значений на 'unknown'\n",
    "for curr_column in ['track', 'artist', 'genre']:\n",
    "    df[curr_column] = df[curr_column].fillna('unknown')"
   ]
  },
  {
   "cell_type": "markdown",
   "metadata": {
    "id": "Ilsm-MZo_Zct"
   },
   "source": [
    "Убедитесь, что в таблице не осталось пропусков. Для этого ещё раз посчитайте пропущенные значения."
   ]
  },
  {
   "cell_type": "code",
   "execution_count": 12,
   "metadata": {
    "id": "Tq4nYRX4_Zct"
   },
   "outputs": [
    {
     "name": "stdout",
     "output_type": "stream",
     "text": [
      "user_id    0\n",
      "track      0\n",
      "artist     0\n",
      "genre      0\n",
      "city       0\n",
      "time       0\n",
      "day        0\n",
      "dtype: int64\n"
     ]
    }
   ],
   "source": [
    "# подсчёт пропусков\n",
    "print(df.isna().sum())"
   ]
  },
  {
   "cell_type": "markdown",
   "metadata": {
    "id": "BWKRtBJ3_Zct"
   },
   "source": [
    "### Дубликаты\n",
    "Посчитайте явные дубликаты в таблице одной командой:"
   ]
  },
  {
   "cell_type": "code",
   "execution_count": 13,
   "metadata": {
    "id": "36eES_S0_Zct"
   },
   "outputs": [
    {
     "name": "stdout",
     "output_type": "stream",
     "text": [
      "3826\n"
     ]
    }
   ],
   "source": [
    "# подсчёт явных дубликатов\n",
    "print(df.duplicated().sum())"
   ]
  },
  {
   "cell_type": "markdown",
   "metadata": {
    "id": "Ot25h6XR_Zct"
   },
   "source": [
    "Вызовите специальный метод `pandas`, чтобы удалить явные дубликаты:"
   ]
  },
  {
   "cell_type": "code",
   "execution_count": 14,
   "metadata": {
    "id": "exFHq6tt_Zct"
   },
   "outputs": [],
   "source": [
    "# удаление явных дубликатов (с удалением старых индексов и формированием новых)\n",
    "df = df.drop_duplicates().reset_index(drop=True)"
   ]
  },
  {
   "cell_type": "markdown",
   "metadata": {
    "id": "Im2YwBEG_Zct"
   },
   "source": [
    "Ещё раз посчитайте явные дубликаты в таблице — убедитесь, что полностью от них избавились:"
   ]
  },
  {
   "cell_type": "code",
   "execution_count": 15,
   "metadata": {
    "id": "-8PuNWQ0_Zct"
   },
   "outputs": [
    {
     "name": "stdout",
     "output_type": "stream",
     "text": [
      "0\n"
     ]
    }
   ],
   "source": [
    "# проверка на отсутствие дубликатов\n",
    "print(df.duplicated().sum())"
   ]
  },
  {
   "cell_type": "markdown",
   "metadata": {
    "id": "QlFBsxAr_Zct"
   },
   "source": [
    "Теперь избавьтесь от неявных дубликатов в колонке `genre`. Например, название одного и того же жанра может быть записано немного по-разному. Такие ошибки тоже повлияют на результат исследования."
   ]
  },
  {
   "cell_type": "markdown",
   "metadata": {
    "id": "eSjWwsOh_Zct"
   },
   "source": [
    "Выведите на экран список уникальных названий жанров, отсортированный в алфавитном порядке. Для этого:\n",
    "* извлеките нужный столбец датафрейма, \n",
    "* примените к нему метод сортировки,\n",
    "* для отсортированного столбца вызовите метод, который вернёт уникальные значения из столбца."
   ]
  },
  {
   "cell_type": "code",
   "execution_count": 16,
   "metadata": {
    "id": "JIUcqzZN_Zct"
   },
   "outputs": [
    {
     "name": "stdout",
     "output_type": "stream",
     "text": [
      "['acid' 'acoustic' 'action' 'adult' 'africa' 'afrikaans' 'alternative'\n",
      " 'alternativepunk' 'ambient' 'americana' 'animated' 'anime' 'arabesk'\n",
      " 'arabic' 'arena' 'argentinetango' 'art' 'audiobook' 'author' 'avantgarde'\n",
      " 'axé' 'baile' 'balkan' 'beats' 'bigroom' 'black' 'bluegrass' 'blues'\n",
      " 'bollywood' 'bossa' 'brazilian' 'breakbeat' 'breaks' 'broadway'\n",
      " 'cantautori' 'cantopop' 'canzone' 'caribbean' 'caucasian' 'celtic'\n",
      " 'chamber' 'chanson' 'children' 'chill' 'chinese' 'choral' 'christian'\n",
      " 'christmas' 'classical' 'classicmetal' 'club' 'colombian' 'comedy'\n",
      " 'conjazz' 'contemporary' 'country' 'cuban' 'dance' 'dancehall' 'dancepop'\n",
      " 'dark' 'death' 'deep' 'deutschrock' 'deutschspr' 'dirty' 'disco' 'dnb'\n",
      " 'documentary' 'downbeat' 'downtempo' 'drum' 'dub' 'dubstep' 'eastern'\n",
      " 'easy' 'electronic' 'electropop' 'emo' 'entehno' 'epicmetal' 'estrada'\n",
      " 'ethnic' 'eurofolk' 'european' 'experimental' 'extrememetal' 'fado'\n",
      " 'fairytail' 'film' 'fitness' 'flamenco' 'folk' 'folklore' 'folkmetal'\n",
      " 'folkrock' 'folktronica' 'forró' 'frankreich' 'französisch' 'french'\n",
      " 'funk' 'future' 'gangsta' 'garage' 'german' 'ghazal' 'gitarre' 'glitch'\n",
      " 'gospel' 'gothic' 'grime' 'grunge' 'gypsy' 'handsup' \"hard'n'heavy\"\n",
      " 'hardcore' 'hardstyle' 'hardtechno' 'hip' 'hip-hop' 'hiphop' 'historisch'\n",
      " 'holiday' 'hop' 'horror' 'house' 'hymn' 'idm' 'independent' 'indian'\n",
      " 'indie' 'indipop' 'industrial' 'inspirational' 'instrumental'\n",
      " 'international' 'irish' 'jam' 'japanese' 'jazz' 'jewish' 'jpop' 'jungle'\n",
      " 'k-pop' 'karadeniz' 'karaoke' 'kayokyoku' 'korean' 'laiko' 'latin'\n",
      " 'latino' 'leftfield' 'local' 'lounge' 'loungeelectronic' 'lovers'\n",
      " 'malaysian' 'mandopop' 'marschmusik' 'meditative' 'mediterranean'\n",
      " 'melodic' 'metal' 'metalcore' 'mexican' 'middle' 'minimal'\n",
      " 'miscellaneous' 'modern' 'mood' 'mpb' 'muslim' 'native' 'neoklassik'\n",
      " 'neue' 'new' 'newage' 'newwave' 'nu' 'nujazz' 'numetal' 'oceania' 'old'\n",
      " 'opera' 'orchestral' 'other' 'piano' 'podcasts' 'pop' 'popdance'\n",
      " 'popelectronic' 'popeurodance' 'poprussian' 'post' 'posthardcore'\n",
      " 'postrock' 'power' 'progmetal' 'progressive' 'psychedelic' 'punjabi'\n",
      " 'punk' 'quebecois' 'ragga' 'ram' 'rancheras' 'rap' 'rave' 'reggae'\n",
      " 'reggaeton' 'regional' 'relax' 'religious' 'retro' 'rhythm' 'rnb' 'rnr'\n",
      " 'rock' 'rockabilly' 'rockalternative' 'rockindie' 'rockother' 'romance'\n",
      " 'roots' 'ruspop' 'rusrap' 'rusrock' 'russian' 'salsa' 'samba' 'scenic'\n",
      " 'schlager' 'self' 'sertanejo' 'shanson' 'shoegazing' 'showtunes' 'singer'\n",
      " 'ska' 'skarock' 'slow' 'smooth' 'soft' 'soul' 'soulful' 'sound'\n",
      " 'soundtrack' 'southern' 'specialty' 'speech' 'spiritual' 'sport'\n",
      " 'stonerrock' 'surf' 'swing' 'synthpop' 'synthrock' 'sängerportrait'\n",
      " 'tango' 'tanzorchester' 'taraftar' 'tatar' 'tech' 'techno' 'teen'\n",
      " 'thrash' 'top' 'traditional' 'tradjazz' 'trance' 'tribal' 'trip'\n",
      " 'triphop' 'tropical' 'türk' 'türkçe' 'ukrrock' 'unknown' 'urban' 'uzbek'\n",
      " 'variété' 'vi' 'videogame' 'vocal' 'western' 'world' 'worldbeat' 'ïîï'\n",
      " 'электроника']\n"
     ]
    }
   ],
   "source": [
    "# Просмотр уникальных названий жанров\n",
    "print(df['genre'].sort_values().unique())"
   ]
  },
  {
   "cell_type": "markdown",
   "metadata": {},
   "source": [
    "<div class=\"alert alert-danger\" style=\"border-radius: 15px; box-shadow: 4px 4px 4px; border: 1px solid \">\n",
    "<h2> Комментарий ревьюера</h2>\n",
    "    \n",
    "Верно, но не хватает сортировки. </div>"
   ]
  },
  {
   "cell_type": "markdown",
   "metadata": {
    "id": "qej-Qmuo_Zct"
   },
   "source": [
    "Просмотрите список и найдите неявные дубликаты названия `hiphop`. Это могут быть названия с ошибками или альтернативные названия того же жанра.\n",
    "\n",
    "Вы увидите следующие неявные дубликаты:\n",
    "* *hip*,\n",
    "* *hop*,\n",
    "* *hip-hop*.\n",
    "\n",
    "Чтобы очистить от них таблицу, напишите функцию `replace_wrong_genres()` с двумя параметрами: \n",
    "* `wrong_genres` — список дубликатов,\n",
    "* `correct_genre` — строка с правильным значением.\n",
    "\n",
    "Функция должна исправить колонку `genre` в таблице `df`: заменить каждое значение из списка `wrong_genres` на значение из `correct_genre`."
   ]
  },
  {
   "cell_type": "code",
   "execution_count": 17,
   "metadata": {
    "id": "ErNDkmns_Zct"
   },
   "outputs": [],
   "source": [
    "# Функция для замены неявных дубликатов\n",
    "def replace_wrong_genres(wrong_genres, correct_genre):\n",
    "    for wrong_genre in wrong_genres: # перебираем неправильные имена\n",
    "        df['genre'] = df['genre'].replace(wrong_genre, correct_genre) # и для каждого неправильного имени вызываем метод replace()\n"
   ]
  },
  {
   "cell_type": "markdown",
   "metadata": {},
   "source": [
    "<div class=\"alert alert-danger\" style=\"border-radius: 15px; box-shadow: 4px 4px 4px; border: 1px solid \">\n",
    "<b> Комментарий ревьюера</b>\n",
    "    \n",
    "Обращаю твое внимание на то, что циклическая переменная **wrong_genre** в результате нигде не используется. Она ведь нам тут нужна для чего-то?  </div>\n",
    "\n",
    "<div class=\"alert alert-success\" style=\"border-radius: 15px; box-shadow: 4px 4px 4px; border: 1px solid \">\n",
    "<h2> Комментарий ревьюера 2</h2>\n",
    "    \n",
    "Супер. Написали и вызвали функцию, которая верно отработала. \n",
    "\n",
    "Вообще, эти манипуяции можно произвести и без функции. Ты верно делаешь, что следуешь ТЗ, но я хочу показать более лаконичный вариант. Для этого нам понадобится список и все тот же метод **replace**.   Выглядеть это будет так:\n",
    "    \n",
    "    \n",
    "    wrong_genres = ['hip', 'hop', 'hip-hop']\n",
    "    correct_genre = 'hiphop'  \n",
    "\n",
    "    df['genre'] = df['genre'].replace(wrong_genres, correct_genre)\n",
    "    \n",
    "    \n",
    "Или, что то же самое:\n",
    "    \n",
    "    \n",
    "    df['genre'] = df['genre'].replace(['hip', 'hop', 'hip-hop'], 'hiphop')\n",
    "    \n",
    "    \n",
    "Т.е. аргументом у replace может быть список.      \n",
    "</div>"
   ]
  },
  {
   "cell_type": "markdown",
   "metadata": {
    "id": "aDoBJxbA_Zct"
   },
   "source": [
    "Вызовите `replace_wrong_genres()` и передайте ей такие аргументы, чтобы она устранила неявные дубликаты: вместо `hip`, `hop` и `hip-hop` в таблице должно быть значение `hiphop`:"
   ]
  },
  {
   "cell_type": "code",
   "execution_count": 18,
   "metadata": {
    "id": "YN5i2hpmSo09"
   },
   "outputs": [],
   "source": [
    "# Устранение неявных дубликатов\n",
    "duplicates = ['hip', 'hop', 'hip-hop'] # список неправильных имён\n",
    "name = 'hiphop' # правильное имя\n",
    "replace_wrong_genres(duplicates, name)"
   ]
  },
  {
   "cell_type": "markdown",
   "metadata": {
    "id": "zQKF16_RG15m"
   },
   "source": [
    "Проверьте, что заменили неправильные названия:\n",
    "\n",
    "*   hip\n",
    "*   hop\n",
    "*   hip-hop\n",
    "\n",
    "Выведите отсортированный список уникальных значений столбца `genre`:"
   ]
  },
  {
   "cell_type": "code",
   "execution_count": 19,
   "metadata": {
    "id": "wvixALnFG15m"
   },
   "outputs": [
    {
     "name": "stdout",
     "output_type": "stream",
     "text": [
      "['acid' 'acoustic' 'action' 'adult' 'africa' 'afrikaans' 'alternative'\n",
      " 'alternativepunk' 'ambient' 'americana' 'animated' 'anime' 'arabesk'\n",
      " 'arabic' 'arena' 'argentinetango' 'art' 'audiobook' 'author' 'avantgarde'\n",
      " 'axé' 'baile' 'balkan' 'beats' 'bigroom' 'black' 'bluegrass' 'blues'\n",
      " 'bollywood' 'bossa' 'brazilian' 'breakbeat' 'breaks' 'broadway'\n",
      " 'cantautori' 'cantopop' 'canzone' 'caribbean' 'caucasian' 'celtic'\n",
      " 'chamber' 'chanson' 'children' 'chill' 'chinese' 'choral' 'christian'\n",
      " 'christmas' 'classical' 'classicmetal' 'club' 'colombian' 'comedy'\n",
      " 'conjazz' 'contemporary' 'country' 'cuban' 'dance' 'dancehall' 'dancepop'\n",
      " 'dark' 'death' 'deep' 'deutschrock' 'deutschspr' 'dirty' 'disco' 'dnb'\n",
      " 'documentary' 'downbeat' 'downtempo' 'drum' 'dub' 'dubstep' 'eastern'\n",
      " 'easy' 'electronic' 'electropop' 'emo' 'entehno' 'epicmetal' 'estrada'\n",
      " 'ethnic' 'eurofolk' 'european' 'experimental' 'extrememetal' 'fado'\n",
      " 'fairytail' 'film' 'fitness' 'flamenco' 'folk' 'folklore' 'folkmetal'\n",
      " 'folkrock' 'folktronica' 'forró' 'frankreich' 'französisch' 'french'\n",
      " 'funk' 'future' 'gangsta' 'garage' 'german' 'ghazal' 'gitarre' 'glitch'\n",
      " 'gospel' 'gothic' 'grime' 'grunge' 'gypsy' 'handsup' \"hard'n'heavy\"\n",
      " 'hardcore' 'hardstyle' 'hardtechno' 'hiphop' 'historisch' 'holiday'\n",
      " 'horror' 'house' 'hymn' 'idm' 'independent' 'indian' 'indie' 'indipop'\n",
      " 'industrial' 'inspirational' 'instrumental' 'international' 'irish' 'jam'\n",
      " 'japanese' 'jazz' 'jewish' 'jpop' 'jungle' 'k-pop' 'karadeniz' 'karaoke'\n",
      " 'kayokyoku' 'korean' 'laiko' 'latin' 'latino' 'leftfield' 'local'\n",
      " 'lounge' 'loungeelectronic' 'lovers' 'malaysian' 'mandopop' 'marschmusik'\n",
      " 'meditative' 'mediterranean' 'melodic' 'metal' 'metalcore' 'mexican'\n",
      " 'middle' 'minimal' 'miscellaneous' 'modern' 'mood' 'mpb' 'muslim'\n",
      " 'native' 'neoklassik' 'neue' 'new' 'newage' 'newwave' 'nu' 'nujazz'\n",
      " 'numetal' 'oceania' 'old' 'opera' 'orchestral' 'other' 'piano' 'podcasts'\n",
      " 'pop' 'popdance' 'popelectronic' 'popeurodance' 'poprussian' 'post'\n",
      " 'posthardcore' 'postrock' 'power' 'progmetal' 'progressive' 'psychedelic'\n",
      " 'punjabi' 'punk' 'quebecois' 'ragga' 'ram' 'rancheras' 'rap' 'rave'\n",
      " 'reggae' 'reggaeton' 'regional' 'relax' 'religious' 'retro' 'rhythm'\n",
      " 'rnb' 'rnr' 'rock' 'rockabilly' 'rockalternative' 'rockindie' 'rockother'\n",
      " 'romance' 'roots' 'ruspop' 'rusrap' 'rusrock' 'russian' 'salsa' 'samba'\n",
      " 'scenic' 'schlager' 'self' 'sertanejo' 'shanson' 'shoegazing' 'showtunes'\n",
      " 'singer' 'ska' 'skarock' 'slow' 'smooth' 'soft' 'soul' 'soulful' 'sound'\n",
      " 'soundtrack' 'southern' 'specialty' 'speech' 'spiritual' 'sport'\n",
      " 'stonerrock' 'surf' 'swing' 'synthpop' 'synthrock' 'sängerportrait'\n",
      " 'tango' 'tanzorchester' 'taraftar' 'tatar' 'tech' 'techno' 'teen'\n",
      " 'thrash' 'top' 'traditional' 'tradjazz' 'trance' 'tribal' 'trip'\n",
      " 'triphop' 'tropical' 'türk' 'türkçe' 'ukrrock' 'unknown' 'urban' 'uzbek'\n",
      " 'variété' 'vi' 'videogame' 'vocal' 'western' 'world' 'worldbeat' 'ïîï'\n",
      " 'электроника']\n"
     ]
    }
   ],
   "source": [
    "# Проверка на неявные дубликаты\n",
    "print(df['genre'].sort_values().unique())"
   ]
  },
  {
   "cell_type": "markdown",
   "metadata": {
    "id": "jz6a9-7HQUDd"
   },
   "source": [
    "**Выводы**\n",
    "\n",
    "Предобработка обнаружила три проблемы в данных:\n",
    "\n",
    "- нарушения в стиле заголовков,\n",
    "- пропущенные значения,\n",
    "- дубликаты — явные и неявные.\n",
    "\n",
    "Вы исправили заголовки, чтобы упростить работу с таблицей. Без дубликатов исследование станет более точным.\n",
    "\n",
    "Пропущенные значения вы заменили на `'unknown'`. Ещё предстоит увидеть, не повредят ли исследованию пропуски в колонке `genre`.\n",
    "\n",
    "Теперь можно перейти к проверке гипотез. "
   ]
  },
  {
   "cell_type": "markdown",
   "metadata": {
    "id": "WttZHXH0SqKk"
   },
   "source": [
    "## Проверка гипотез"
   ]
  },
  {
   "cell_type": "markdown",
   "metadata": {
    "id": "Im936VVi_Zcu"
   },
   "source": [
    "### Сравнение поведения пользователей двух столиц"
   ]
  },
  {
   "cell_type": "markdown",
   "metadata": {
    "id": "nwt_MuaL_Zcu"
   },
   "source": [
    "Первая гипотеза утверждает, что пользователи по-разному слушают музыку в Москве и Санкт-Петербурге. Проверьте это предположение по данным о трёх днях недели — понедельнике, среде и пятнице. Для этого:\n",
    "\n",
    "* Разделите пользователей Москвы и Санкт-Петербурга\n",
    "* Сравните, сколько треков послушала каждая группа пользователей в понедельник, среду и пятницу.\n"
   ]
  },
  {
   "cell_type": "markdown",
   "metadata": {
    "id": "8Dw_YMmT_Zcu"
   },
   "source": [
    "Для тренировки сначала выполните каждый из расчётов по отдельности. \n",
    "\n",
    "Оцените активность пользователей в каждом городе. Сгруппируйте данные по городу и посчитайте прослушивания в каждой группе.\n",
    "\n"
   ]
  },
  {
   "cell_type": "code",
   "execution_count": 20,
   "metadata": {
    "id": "0_Qs96oh_Zcu"
   },
   "outputs": [
    {
     "name": "stdout",
     "output_type": "stream",
     "text": [
      "city\n",
      "Moscow              42741\n",
      "Saint-Petersburg    18512\n",
      "Name: city, dtype: int64\n"
     ]
    }
   ],
   "source": [
    "# Подсчёт прослушиваний в каждом городе\n",
    "print(df.groupby('city')['city'].count())"
   ]
  },
  {
   "cell_type": "markdown",
   "metadata": {
    "id": "dzli3w8o_Zcu"
   },
   "source": [
    "В Москве прослушиваний больше, чем в Петербурге. Из этого не следует, что московские пользователи чаще слушают музыку. Просто самих пользователей в Москве больше.\n",
    "\n",
    "Теперь сгруппируйте данные по дню недели и подсчитайте прослушивания в понедельник, среду и пятницу. Учтите, что в данных есть информация только о прослушиваниях только за эти дни.\n"
   ]
  },
  {
   "cell_type": "code",
   "execution_count": 21,
   "metadata": {
    "id": "uZMKjiJz_Zcu"
   },
   "outputs": [
    {
     "name": "stdout",
     "output_type": "stream",
     "text": [
      "day\n",
      "Friday       21840\n",
      "Monday       21354\n",
      "Wednesday    18059\n",
      "Name: day, dtype: int64\n"
     ]
    }
   ],
   "source": [
    "# Подсчёт прослушиваний в каждый из трёх дней\n",
    "print(df.groupby('day')['day'].count())"
   ]
  },
  {
   "cell_type": "markdown",
   "metadata": {
    "id": "cC2tNrlL_Zcu"
   },
   "source": [
    "В среднем пользователи из двух городов менее активны по средам. Но картина может измениться, если рассмотреть каждый город в отдельности."
   ]
  },
  {
   "cell_type": "markdown",
   "metadata": {
    "id": "POzs8bGa_Zcu"
   },
   "source": [
    "Вы видели, как работает группировка по городу и по дням недели. Теперь напишите функцию, которая объединит два эти расчёта.\n",
    "\n",
    "Создайте функцию `number_tracks()`, которая посчитает прослушивания для заданного дня и города. Ей понадобятся два параметра:\n",
    "* день недели,\n",
    "* название города.\n",
    "\n",
    "В функции сохраните в переменную строки исходной таблицы, у которых значение:\n",
    "  * в колонке `day` равно параметру `day`,\n",
    "  * в колонке `city` равно параметру `city`.\n",
    "\n",
    "Для этого примените последовательную фильтрацию с логической индексацией.\n",
    "\n",
    "Затем посчитайте значения в столбце `user_id` получившейся таблицы. Результат сохраните в новую переменную. Верните эту переменную из функции."
   ]
  },
  {
   "cell_type": "code",
   "execution_count": 22,
   "metadata": {
    "id": "Nz3GdQB1_Zcu"
   },
   "outputs": [],
   "source": [
    "# <создание функции number_tracks()>\n",
    "def number_tracks(day, city):\n",
    "    # Объявляется функция с двумя параметрами: day, city.\n",
    "    # В переменной track_list сохраняются те строки таблицы df, для которых \n",
    "    # значение в столбце 'day' равно параметру day и одновременно значение\n",
    "    # в столбце 'city' равно параметру city (используйте последовательную фильтрацию\n",
    "    # с помощью логической индексации).\n",
    "    track_list = df[df['day'] == day]\n",
    "    track_list = track_list[track_list['city'] == city]\n",
    "\n",
    "    # В переменной track_list_count сохраняется число значений столбца 'user_id',\n",
    "    # рассчитанное методом count() для таблицы track_list.\n",
    "    track_list_count = track_list['user_id'].count()\n",
    "    # Функция возвращает число - значение track_list_count.\n",
    "    return track_list_count\n",
    "\n",
    "# Функция для подсчёта прослушиваний для конкретного города и дня.\n",
    "# С помощью последовательной фильтрации с логической индексацией она \n",
    "# сначала получит из исходной таблицы строки с нужным днём,\n",
    "# затем из результата отфильтрует строки с нужным городом,\n",
    "# методом count() посчитает количество значений в колонке user_id. \n",
    "# Это количество функция вернёт в качестве результата"
   ]
  },
  {
   "cell_type": "markdown",
   "metadata": {
    "id": "ytf7xFrFJQ2r"
   },
   "source": [
    "Вызовите `number_tracks()` шесть раз, меняя значение параметров — так, чтобы получить данные для каждого города в каждый из трёх дней."
   ]
  },
  {
   "cell_type": "code",
   "execution_count": 23,
   "metadata": {
    "id": "rJcRATNQ_Zcu"
   },
   "outputs": [
    {
     "name": "stdout",
     "output_type": "stream",
     "text": [
      "15740\n"
     ]
    }
   ],
   "source": [
    "# количество прослушиваний в Москве по понедельникам\n",
    "print(number_tracks('Monday', 'Moscow'))"
   ]
  },
  {
   "cell_type": "code",
   "execution_count": 24,
   "metadata": {
    "id": "hq_ncZ5T_Zcu"
   },
   "outputs": [
    {
     "name": "stdout",
     "output_type": "stream",
     "text": [
      "5614\n"
     ]
    }
   ],
   "source": [
    "# количество прослушиваний в Санкт-Петербурге по понедельникам\n",
    "print(number_tracks('Monday', 'Saint-Petersburg'))"
   ]
  },
  {
   "cell_type": "code",
   "execution_count": 25,
   "metadata": {
    "id": "_NTy2VPU_Zcu"
   },
   "outputs": [
    {
     "name": "stdout",
     "output_type": "stream",
     "text": [
      "11056\n"
     ]
    }
   ],
   "source": [
    "# количество прослушиваний в Москве по средам\n",
    "print(number_tracks('Wednesday', 'Moscow'))"
   ]
  },
  {
   "cell_type": "code",
   "execution_count": 26,
   "metadata": {
    "id": "j2y3TAwo_Zcu"
   },
   "outputs": [
    {
     "name": "stdout",
     "output_type": "stream",
     "text": [
      "7003\n"
     ]
    }
   ],
   "source": [
    "# количество прослушиваний в Санкт-Петербурге по средам\n",
    "print(number_tracks('Wednesday', 'Saint-Petersburg'))"
   ]
  },
  {
   "cell_type": "code",
   "execution_count": 27,
   "metadata": {
    "id": "vYDw5u_K_Zcu"
   },
   "outputs": [
    {
     "name": "stdout",
     "output_type": "stream",
     "text": [
      "15945\n"
     ]
    }
   ],
   "source": [
    "# количество прослушиваний в Москве по пятницам\n",
    "print(number_tracks('Friday', 'Moscow'))"
   ]
  },
  {
   "cell_type": "code",
   "execution_count": 28,
   "metadata": {
    "id": "8_yzFtW3_Zcu"
   },
   "outputs": [
    {
     "name": "stdout",
     "output_type": "stream",
     "text": [
      "5895\n"
     ]
    }
   ],
   "source": [
    "# количество прослушиваний в Санкт-Петербурге по пятницам\n",
    "print(number_tracks('Friday', 'Saint-Petersburg'))"
   ]
  },
  {
   "cell_type": "markdown",
   "metadata": {
    "id": "7QXffbO-_Zcu"
   },
   "source": [
    "Создайте c помощью конструктора `pd.DataFrame` таблицу, где\n",
    "* названия колонок — `['city', 'monday', 'wednesday', 'friday']`;\n",
    "* данные — результаты, которые вы получили с помощью `number_tracks`."
   ]
  },
  {
   "cell_type": "code",
   "execution_count": 29,
   "metadata": {
    "id": "APAcLpOr_Zcu"
   },
   "outputs": [],
   "source": [
    "# Таблица с результатами\n",
    "columns_list = ['city', 'monday', 'wednesday', 'friday']\n",
    "\n",
    "data_list = [\n",
    "    ['Moscow', 15740, 11056, 15945],\n",
    "    ['Saint-Petersburg', 5614, 7003, 5895],\n",
    "]\n",
    "\n",
    "two_city_reserche_resault_df = pd.DataFrame(data = data_list, columns = columns_list)"
   ]
  },
  {
   "cell_type": "code",
   "execution_count": 30,
   "metadata": {},
   "outputs": [
    {
     "data": {
      "text/html": [
       "<div>\n",
       "<style scoped>\n",
       "    .dataframe tbody tr th:only-of-type {\n",
       "        vertical-align: middle;\n",
       "    }\n",
       "\n",
       "    .dataframe tbody tr th {\n",
       "        vertical-align: top;\n",
       "    }\n",
       "\n",
       "    .dataframe thead th {\n",
       "        text-align: right;\n",
       "    }\n",
       "</style>\n",
       "<table border=\"1\" class=\"dataframe\">\n",
       "  <thead>\n",
       "    <tr style=\"text-align: right;\">\n",
       "      <th></th>\n",
       "      <th>city</th>\n",
       "      <th>monday</th>\n",
       "      <th>wednesday</th>\n",
       "      <th>friday</th>\n",
       "    </tr>\n",
       "  </thead>\n",
       "  <tbody>\n",
       "    <tr>\n",
       "      <td>0</td>\n",
       "      <td>Moscow</td>\n",
       "      <td>15740</td>\n",
       "      <td>11056</td>\n",
       "      <td>15945</td>\n",
       "    </tr>\n",
       "    <tr>\n",
       "      <td>1</td>\n",
       "      <td>Saint-Petersburg</td>\n",
       "      <td>5614</td>\n",
       "      <td>7003</td>\n",
       "      <td>5895</td>\n",
       "    </tr>\n",
       "  </tbody>\n",
       "</table>\n",
       "</div>"
      ],
      "text/plain": [
       "               city  monday  wednesday  friday\n",
       "0            Moscow   15740      11056   15945\n",
       "1  Saint-Petersburg    5614       7003    5895"
      ]
     },
     "metadata": {},
     "output_type": "display_data"
    }
   ],
   "source": [
    "display(two_city_reserche_resault_df.head())"
   ]
  },
  {
   "cell_type": "markdown",
   "metadata": {
    "id": "-EgPIHYu_Zcu"
   },
   "source": [
    "**Выводы**\n",
    "\n",
    "Данные показывают разницу поведения пользователей:\n",
    "\n",
    "- В Москве пик прослушиваний приходится на понедельник и пятницу, а в среду заметен спад.\n",
    "- В Петербурге, наоборот, больше слушают музыку по средам. Активность в понедельник и пятницу здесь почти в равной мере уступает среде.\n",
    "\n",
    "Значит, данные говорят в пользу первой гипотезы."
   ]
  },
  {
   "cell_type": "markdown",
   "metadata": {
    "id": "atZAxtq4_Zcu"
   },
   "source": [
    "### Музыка в начале и в конце недели"
   ]
  },
  {
   "cell_type": "markdown",
   "metadata": {
    "id": "eXrQqXFH_Zcu"
   },
   "source": [
    "Согласно второй гипотезе, утром в понедельник в Москве преобладают одни жанры, а в Петербурге — другие. Так же и вечером пятницы преобладают разные жанры — в зависимости от города."
   ]
  },
  {
   "cell_type": "markdown",
   "metadata": {
    "id": "S8UcW6Hw_Zcu"
   },
   "source": [
    "Сохраните таблицы с данными в две переменные:\n",
    "* по Москве — в `moscow_general`;\n",
    "* по Санкт-Петербургу — в `spb_general`."
   ]
  },
  {
   "cell_type": "code",
   "execution_count": 31,
   "metadata": {
    "id": "qeaFfM_P_Zcu"
   },
   "outputs": [],
   "source": [
    "# получение таблицы moscow_general из тех строк таблицы df, \n",
    "# для которых значение в столбце 'city' равно 'Moscow'\n",
    "moscow_general = df[df['city'] == 'Moscow']"
   ]
  },
  {
   "cell_type": "code",
   "execution_count": 32,
   "metadata": {
    "id": "ORaVRKto_Zcu"
   },
   "outputs": [],
   "source": [
    "# получение таблицы spb_general из тех строк таблицы df,\n",
    "# для которых значение в столбце 'city' равно 'Saint-Petersburg'\n",
    "spb_general = df[df['city'] == 'Saint-Petersburg']"
   ]
  },
  {
   "cell_type": "markdown",
   "metadata": {
    "id": "MEJV-CX2_Zcu"
   },
   "source": [
    "Создайте функцию `genre_weekday()` с четырьмя параметрами:\n",
    "* таблица (датафрейм) с данными,\n",
    "* день недели,\n",
    "* начальная временная метка в формате 'hh:mm', \n",
    "* последняя временная метка в формате 'hh:mm'.\n",
    "\n",
    "Функция должна вернуть информацию о топ-10 жанров тех треков, которые прослушивали в указанный день, в промежутке между двумя отметками времени."
   ]
  },
  {
   "cell_type": "code",
   "execution_count": 33,
   "metadata": {
    "id": "laJT9BYl_Zcu"
   },
   "outputs": [],
   "source": [
    "# Объявление функции genre_weekday() с параметрами table, day, time1, time2,\n",
    "# которая возвращает информацию о самых популярных жанрах в указанный день в\n",
    "# заданное время:\n",
    "def genre_weekday(table, day, time1, time2):\n",
    "    # 1) в переменную genre_df сохраняются те строки переданного датафрейма table, для\n",
    "    #    которых одновременно:\n",
    "    #    - значение в столбце day равно значению аргумента day\n",
    "    #    - значение в столбце time больше значения аргумента time1\n",
    "    #    - значение в столбце time меньше значения аргумента time2\n",
    "    #    Используйте последовательную фильтрацию с помощью логической индексации.\n",
    "    genre_df = table[\n",
    "        (table['day'] == day)\n",
    "        & (table['time'] > time1)\n",
    "        & (table['time'] < time2)\n",
    "          \n",
    "    ]\n",
    "    \n",
    "    # 2) сгруппировать датафрейм genre_df по столбцу genre, взять один из его\n",
    "    #    столбцов и посчитать методом count() количество записей для каждого из\n",
    "    #    присутствующих жанров, получившийся Series записать в переменную\n",
    "    #    genre_df_count\n",
    "    genre_df_count = genre_df.groupby('genre')['genre'].count()\n",
    "    \n",
    "    # 3) отсортировать genre_df_count по убыванию встречаемости и сохранить\n",
    "    #    в переменную genre_df_sorted\n",
    "    genre_df_sorted = genre_df_count.sort_values(ascending=False)\n",
    "    \n",
    "    # 4) вернуть Series из 10 первых значений genre_df_sorted, это будут топ-10\n",
    "    #    популярных жанров (в указанный день, в заданное время)\n",
    "    return genre_df_sorted.head(10)"
   ]
  },
  {
   "cell_type": "markdown",
   "metadata": {
    "id": "la2s2_PF_Zcu"
   },
   "source": [
    "Cравните результаты функции `genre_weekday()` для Москвы и Санкт-Петербурга в понедельник утром (с 7:00 до 11:00) и в пятницу вечером (с 17:00 до 23:00):"
   ]
  },
  {
   "cell_type": "code",
   "execution_count": 34,
   "metadata": {
    "id": "yz7itPUQ_Zcu"
   },
   "outputs": [
    {
     "data": {
      "text/plain": [
       "genre\n",
       "pop            781\n",
       "dance          549\n",
       "electronic     480\n",
       "rock           474\n",
       "hiphop         286\n",
       "ruspop         186\n",
       "world          181\n",
       "rusrap         175\n",
       "alternative    164\n",
       "unknown        161\n",
       "Name: genre, dtype: int64"
      ]
     },
     "execution_count": 34,
     "metadata": {},
     "output_type": "execute_result"
    }
   ],
   "source": [
    "# вызов функции для утра понедельника в Москве (вместо df — таблица moscow_general)\n",
    "# объекты, хранящие время, являются строками и сравниваются как строки\n",
    "# пример вызова: genre_weekday(moscow_general, 'Monday', '07:00', '11:00')\n",
    "genre_weekday(moscow_general, 'Monday', '07:00', '11:00')"
   ]
  },
  {
   "cell_type": "code",
   "execution_count": 35,
   "metadata": {
    "id": "kwUcHPdy_Zcu"
   },
   "outputs": [
    {
     "data": {
      "text/plain": [
       "genre\n",
       "pop            218\n",
       "dance          182\n",
       "rock           162\n",
       "electronic     147\n",
       "hiphop          80\n",
       "ruspop          64\n",
       "alternative     58\n",
       "rusrap          55\n",
       "jazz            44\n",
       "classical       40\n",
       "Name: genre, dtype: int64"
      ]
     },
     "execution_count": 35,
     "metadata": {},
     "output_type": "execute_result"
    }
   ],
   "source": [
    "# вызов функции для утра понедельника в Петербурге (вместо df — таблица spb_general)\n",
    "genre_weekday(spb_general, 'Monday', '07:00', '11:00')"
   ]
  },
  {
   "cell_type": "code",
   "execution_count": 36,
   "metadata": {
    "id": "EzXVRE1o_Zcu"
   },
   "outputs": [
    {
     "data": {
      "text/plain": [
       "genre\n",
       "pop            713\n",
       "rock           517\n",
       "dance          495\n",
       "electronic     482\n",
       "hiphop         273\n",
       "world          208\n",
       "ruspop         170\n",
       "alternative    163\n",
       "classical      163\n",
       "rusrap         142\n",
       "Name: genre, dtype: int64"
      ]
     },
     "execution_count": 36,
     "metadata": {},
     "output_type": "execute_result"
    }
   ],
   "source": [
    "# вызов функции для вечера пятницы в Москве\n",
    "genre_weekday(moscow_general, 'Friday', '17:00', '23:00')"
   ]
  },
  {
   "cell_type": "code",
   "execution_count": 37,
   "metadata": {
    "id": "JZaEKu5v_Zcu"
   },
   "outputs": [
    {
     "data": {
      "text/plain": [
       "genre\n",
       "pop            256\n",
       "rock           216\n",
       "electronic     216\n",
       "dance          210\n",
       "hiphop          97\n",
       "alternative     63\n",
       "jazz            61\n",
       "classical       60\n",
       "rusrap          59\n",
       "world           54\n",
       "Name: genre, dtype: int64"
      ]
     },
     "execution_count": 37,
     "metadata": {},
     "output_type": "execute_result"
    }
   ],
   "source": [
    "# вызов функции для вечера пятницы в Петербурге\n",
    "genre_weekday(spb_general, 'Friday', '17:00', '23:00')"
   ]
  },
  {
   "cell_type": "markdown",
   "metadata": {
    "id": "wrCe4MNX_Zcu"
   },
   "source": [
    "**Выводы**\n",
    "\n",
    "Если сравнить топ-10 жанров в понедельник утром, можно сделать такие выводы:\n",
    "\n",
    "1. В Москве и Петербурге слушают похожую музыку. Единственное отличие — в московский рейтинг вошёл жанр “world”, а в петербургский — джаз и классика.\n",
    "\n",
    "2. В Москве пропущенных значений оказалось так много, что значение `'unknown'` заняло десятое место среди самых популярных жанров. Значит, пропущенные значения занимают существенную долю в данных и угрожают достоверности исследования.\n",
    "\n",
    "Вечер пятницы не меняет эту картину. Некоторые жанры поднимаются немного выше, другие спускаются, но в целом топ-10 остаётся тем же самым.\n",
    "\n",
    "Таким образом, вторая гипотеза подтвердилась лишь частично:\n",
    "* Пользователи слушают похожую музыку в начале недели и в конце.\n",
    "* Разница между Москвой и Петербургом не слишком выражена. В Москве чаще слушают русскую популярную музыку, в Петербурге — джаз.\n",
    "\n",
    "Однако пропуски в данных ставят под сомнение этот результат. В Москве их так много, что рейтинг топ-10 мог бы выглядеть иначе, если бы не утерянные  данные о жанрах."
   ]
  },
  {
   "cell_type": "markdown",
   "metadata": {
    "id": "JolODAqr_Zcu"
   },
   "source": [
    "### Жанровые предпочтения в Москве и Петербурге\n",
    "\n",
    "Гипотеза: Петербург — столица рэпа, музыку этого жанра там слушают чаще, чем в Москве.  А Москва — город контрастов, в котором, тем не менее, преобладает поп-музыка."
   ]
  },
  {
   "cell_type": "markdown",
   "metadata": {
    "id": "DlegSvaT_Zcu"
   },
   "source": [
    "Сгруппируйте таблицу `moscow_general` по жанру и посчитайте прослушивания треков каждого жанра методом `count()`. Затем отсортируйте результат в порядке убывания и сохраните его в таблице `moscow_genres`."
   ]
  },
  {
   "cell_type": "code",
   "execution_count": 38,
   "metadata": {
    "id": "r19lIPke_Zcu"
   },
   "outputs": [],
   "source": [
    "# одной строкой: группировка таблицы moscow_general по столбцу 'genre', \n",
    "# подсчёт числа значений 'genre' в этой группировке методом count(), \n",
    "# сортировка получившегося Series в порядке убывания и сохранение в moscow_genres\n",
    "moscow_genres = moscow_general.groupby('genre')['genre'].count().sort_values(ascending=False)"
   ]
  },
  {
   "cell_type": "markdown",
   "metadata": {
    "id": "6kMuomxTiIr8"
   },
   "source": [
    "Выведите на экран первые десять строк `moscow_genres`:"
   ]
  },
  {
   "cell_type": "code",
   "execution_count": 39,
   "metadata": {
    "id": "WhCSooF8_Zcv"
   },
   "outputs": [
    {
     "data": {
      "text/plain": [
       "genre\n",
       "pop            5892\n",
       "dance          4435\n",
       "rock           3965\n",
       "electronic     3786\n",
       "hiphop         2096\n",
       "classical      1616\n",
       "world          1432\n",
       "alternative    1379\n",
       "ruspop         1372\n",
       "rusrap         1161\n",
       "Name: genre, dtype: int64"
      ]
     },
     "execution_count": 39,
     "metadata": {},
     "output_type": "execute_result"
    }
   ],
   "source": [
    "# просмотр первых 10 строк moscow_genres\n",
    "moscow_genres.head(10)"
   ]
  },
  {
   "cell_type": "markdown",
   "metadata": {},
   "source": [
    "<div class=\"alert alert-success\" style=\"border-radius: 15px; box-shadow: 4px 4px 4px; border: 1px solid \">\n",
    "<h2> Комментарий ревьюера</h2>\n",
    "    \n",
    "Можно и это вывести как таблицу с помощью метода **to_frame**:\n",
    "\n",
    "</div>"
   ]
  },
  {
   "cell_type": "code",
   "execution_count": 40,
   "metadata": {},
   "outputs": [
    {
     "data": {
      "text/html": [
       "<div>\n",
       "<style scoped>\n",
       "    .dataframe tbody tr th:only-of-type {\n",
       "        vertical-align: middle;\n",
       "    }\n",
       "\n",
       "    .dataframe tbody tr th {\n",
       "        vertical-align: top;\n",
       "    }\n",
       "\n",
       "    .dataframe thead th {\n",
       "        text-align: right;\n",
       "    }\n",
       "</style>\n",
       "<table border=\"1\" class=\"dataframe\">\n",
       "  <thead>\n",
       "    <tr style=\"text-align: right;\">\n",
       "      <th></th>\n",
       "      <th>genre</th>\n",
       "    </tr>\n",
       "    <tr>\n",
       "      <th>genre</th>\n",
       "      <th></th>\n",
       "    </tr>\n",
       "  </thead>\n",
       "  <tbody>\n",
       "    <tr>\n",
       "      <td>pop</td>\n",
       "      <td>5892</td>\n",
       "    </tr>\n",
       "    <tr>\n",
       "      <td>dance</td>\n",
       "      <td>4435</td>\n",
       "    </tr>\n",
       "    <tr>\n",
       "      <td>rock</td>\n",
       "      <td>3965</td>\n",
       "    </tr>\n",
       "    <tr>\n",
       "      <td>electronic</td>\n",
       "      <td>3786</td>\n",
       "    </tr>\n",
       "    <tr>\n",
       "      <td>hiphop</td>\n",
       "      <td>2096</td>\n",
       "    </tr>\n",
       "    <tr>\n",
       "      <td>classical</td>\n",
       "      <td>1616</td>\n",
       "    </tr>\n",
       "    <tr>\n",
       "      <td>world</td>\n",
       "      <td>1432</td>\n",
       "    </tr>\n",
       "    <tr>\n",
       "      <td>alternative</td>\n",
       "      <td>1379</td>\n",
       "    </tr>\n",
       "    <tr>\n",
       "      <td>ruspop</td>\n",
       "      <td>1372</td>\n",
       "    </tr>\n",
       "    <tr>\n",
       "      <td>rusrap</td>\n",
       "      <td>1161</td>\n",
       "    </tr>\n",
       "  </tbody>\n",
       "</table>\n",
       "</div>"
      ],
      "text/plain": [
       "             genre\n",
       "genre             \n",
       "pop           5892\n",
       "dance         4435\n",
       "rock          3965\n",
       "electronic    3786\n",
       "hiphop        2096\n",
       "classical     1616\n",
       "world         1432\n",
       "alternative   1379\n",
       "ruspop        1372\n",
       "rusrap        1161"
      ]
     },
     "execution_count": 40,
     "metadata": {},
     "output_type": "execute_result"
    }
   ],
   "source": [
    "# КОД РЕВЬЮЕРА\n",
    "\n",
    "moscow_genres.to_frame().head(10)"
   ]
  },
  {
   "cell_type": "markdown",
   "metadata": {
    "id": "cnPG2vnN_Zcv"
   },
   "source": [
    "Теперь повторите то же и для Петербурга.\n",
    "\n",
    "Сгруппируйте таблицу `spb_general` по жанру. Посчитайте прослушивания треков каждого жанра. Результат отсортируйте в порядке убывания и сохраните в таблице `spb_genres`:\n"
   ]
  },
  {
   "cell_type": "code",
   "execution_count": 41,
   "metadata": {
    "id": "gluLIpE7_Zcv"
   },
   "outputs": [],
   "source": [
    "# одной строкой: группировка таблицы spb_general по столбцу 'genre', \n",
    "# подсчёт числа значений 'genre' в этой группировке методом count(), \n",
    "# сортировка получившегося Series в порядке убывания и сохранение в spb_genres\n",
    "spb_genres = spb_general.groupby('genre')['genre'].count().sort_values(ascending=False)"
   ]
  },
  {
   "cell_type": "markdown",
   "metadata": {
    "id": "5Doha_ODgyQ8"
   },
   "source": [
    "Выведите на экран первые десять строк `spb_genres`:"
   ]
  },
  {
   "cell_type": "code",
   "execution_count": 42,
   "metadata": {
    "id": "uaGJHjVU_Zcv"
   },
   "outputs": [
    {
     "data": {
      "text/plain": [
       "genre\n",
       "pop            2431\n",
       "dance          1932\n",
       "rock           1879\n",
       "electronic     1736\n",
       "hiphop          960\n",
       "alternative     649\n",
       "classical       646\n",
       "rusrap          564\n",
       "ruspop          538\n",
       "world           515\n",
       "Name: genre, dtype: int64"
      ]
     },
     "execution_count": 42,
     "metadata": {},
     "output_type": "execute_result"
    }
   ],
   "source": [
    "# просмотр первых 10 строк spb_genres\n",
    "spb_genres.head(10)"
   ]
  },
  {
   "cell_type": "markdown",
   "metadata": {
    "id": "RY51YJYu_Zcv"
   },
   "source": [
    "**Выводы**"
   ]
  },
  {
   "cell_type": "markdown",
   "metadata": {
    "id": "nVhnJEm__Zcv"
   },
   "source": [
    "Гипотеза частично подтвердилась:\n",
    "* Поп-музыка — самый популярный жанр в Москве, как и предполагала гипотеза. Более того, в топ-10 жанров встречается близкий жанр — русская популярная музыка.\n",
    "* Вопреки ожиданиям, рэп одинаково популярен в Москве и Петербурге. \n"
   ]
  },
  {
   "cell_type": "markdown",
   "metadata": {
    "id": "ykKQ0N65_Zcv"
   },
   "source": [
    "## Итоги исследования"
   ]
  },
  {
   "cell_type": "markdown",
   "metadata": {
    "id": "tjUwbHb3_Zcv"
   },
   "source": [
    "Вы проверили три гипотезы и установили:\n",
    "\n",
    "1. День недели по-разному влияет на активность пользователей в Москве и Петербурге. \n",
    "\n",
    "Первая гипотеза полностью подтвердилась.\n",
    "\n",
    "2. Музыкальные предпочтения не сильно меняются в течение недели — будь то Москва или Петербург. Небольшие различия заметны в начале недели, по понедельникам:\n",
    "* в Москве слушают музыку жанра “world”,\n",
    "* в Петербурге — джаз и классику.\n",
    "\n",
    "Таким образом, вторая гипотеза подтвердилась лишь отчасти. Этот результат мог оказаться иным, если бы не пропуски в данных.\n",
    "\n",
    "3. Во вкусах пользователей Москвы и Петербурга больше общего чем различий. Вопреки ожиданиям, предпочтения жанров в Петербурге напоминают московские.\n",
    "\n",
    "Третья гипотеза не подтвердилась. Если различия в предпочтениях и существуют, на основной массе пользователей они незаметны.\n",
    "\n",
    "**На практике исследования содержат проверки статистических гипотез.**\n",
    "Из данных одного сервиса не всегда можно сделать вывод о всех жителях города.\n",
    "Проверки статистических гипотез покажут, насколько они достоверны, исходя из имеющихся данных. \n",
    "С методами проверок гипотез вы ещё познакомитесь в следующих темах."
   ]
  },
  {
   "cell_type": "markdown",
   "metadata": {},
   "source": [
    "<div class=\"alert alert-success\" style=\"border-radius: 15px; box-shadow: 4px 4px 4px; border: 1px solid \">\n",
    "<h2> Комментарий ревьюера</h2>\n",
    "    \n",
    "Общий вывод это очень важно. Зачастую подобные задачи заканчиваются составлением презентаций или отчетов для заказчика. Поэтому все результаты нужно описывать в общем выводе. В идеале надо подкреплять его полученными ранее значениями. Так что рекомендую  во всех следующих проектах не забывать о нем :) \n",
    "\n",
    "</div>"
   ]
  }
 ],
 "metadata": {
  "ExecuteTimeLog": [
   {
    "duration": 718,
    "start_time": "2021-12-26T20:14:29.046Z"
   },
   {
    "duration": 182,
    "start_time": "2021-12-26T20:15:00.099Z"
   },
   {
    "duration": 25,
    "start_time": "2021-12-26T20:15:16.147Z"
   },
   {
    "duration": 32,
    "start_time": "2021-12-26T20:15:31.743Z"
   },
   {
    "duration": 5,
    "start_time": "2021-12-26T20:21:08.930Z"
   },
   {
    "duration": 5,
    "start_time": "2021-12-26T20:21:13.993Z"
   },
   {
    "duration": 4,
    "start_time": "2021-12-26T20:21:22.242Z"
   },
   {
    "duration": 9,
    "start_time": "2021-12-26T20:21:31.663Z"
   },
   {
    "duration": 354,
    "start_time": "2021-12-26T20:21:39.946Z"
   },
   {
    "duration": 15,
    "start_time": "2021-12-26T20:21:46.205Z"
   },
   {
    "duration": 5,
    "start_time": "2021-12-26T20:22:00.654Z"
   },
   {
    "duration": 4,
    "start_time": "2021-12-26T20:22:02.630Z"
   },
   {
    "duration": 26,
    "start_time": "2021-12-26T20:25:00.775Z"
   },
   {
    "duration": 5,
    "start_time": "2021-12-26T20:25:11.084Z"
   },
   {
    "duration": 37,
    "start_time": "2021-12-26T20:25:20.881Z"
   },
   {
    "duration": 4,
    "start_time": "2021-12-26T20:25:22.210Z"
   },
   {
    "duration": 22,
    "start_time": "2021-12-26T20:25:29.130Z"
   },
   {
    "duration": 17,
    "start_time": "2021-12-26T20:25:29.764Z"
   },
   {
    "duration": 4,
    "start_time": "2021-12-26T20:25:30.515Z"
   },
   {
    "duration": 3,
    "start_time": "2021-12-26T20:25:39.318Z"
   },
   {
    "duration": 200,
    "start_time": "2021-12-26T20:25:39.920Z"
   },
   {
    "duration": 15,
    "start_time": "2021-12-26T20:25:40.600Z"
   },
   {
    "duration": 35,
    "start_time": "2021-12-26T20:25:41.402Z"
   },
   {
    "duration": 4,
    "start_time": "2021-12-26T20:25:43.921Z"
   },
   {
    "duration": 19,
    "start_time": "2021-12-26T20:25:52.827Z"
   },
   {
    "duration": 18,
    "start_time": "2021-12-26T20:25:53.472Z"
   },
   {
    "duration": 4,
    "start_time": "2021-12-26T20:25:54.568Z"
   },
   {
    "duration": 30,
    "start_time": "2021-12-26T20:27:51.554Z"
   },
   {
    "duration": 8211,
    "start_time": "2021-12-26T20:28:37.127Z"
   },
   {
    "duration": 22,
    "start_time": "2021-12-26T20:29:20.011Z"
   },
   {
    "duration": 32,
    "start_time": "2021-12-26T20:29:33.511Z"
   },
   {
    "duration": 83,
    "start_time": "2021-12-26T20:29:50.462Z"
   },
   {
    "duration": 103,
    "start_time": "2021-12-26T20:30:19.706Z"
   },
   {
    "duration": 79,
    "start_time": "2021-12-26T20:30:34.167Z"
   },
   {
    "duration": 275,
    "start_time": "2021-12-26T20:32:51.048Z"
   },
   {
    "duration": 8,
    "start_time": "2021-12-26T20:33:02.172Z"
   },
   {
    "duration": 4,
    "start_time": "2021-12-26T20:43:22.910Z"
   },
   {
    "duration": 266,
    "start_time": "2021-12-26T20:47:31.130Z"
   },
   {
    "duration": 54,
    "start_time": "2021-12-26T20:47:53.248Z"
   },
   {
    "duration": 55,
    "start_time": "2021-12-26T20:47:57.332Z"
   },
   {
    "duration": 21,
    "start_time": "2021-12-26T20:55:49.570Z"
   },
   {
    "duration": 5,
    "start_time": "2021-12-26T20:57:03.193Z"
   },
   {
    "duration": 45,
    "start_time": "2021-12-26T20:57:10.380Z"
   },
   {
    "duration": 14,
    "start_time": "2021-12-26T20:57:25.640Z"
   },
   {
    "duration": 14,
    "start_time": "2021-12-26T20:57:42.907Z"
   },
   {
    "duration": 12,
    "start_time": "2021-12-26T20:58:03.096Z"
   },
   {
    "duration": 18,
    "start_time": "2021-12-26T20:59:09.734Z"
   },
   {
    "duration": 12,
    "start_time": "2021-12-26T20:59:25.219Z"
   },
   {
    "duration": 4,
    "start_time": "2021-12-26T21:21:19.557Z"
   },
   {
    "duration": 17,
    "start_time": "2021-12-26T21:22:03.585Z"
   },
   {
    "duration": 28,
    "start_time": "2021-12-26T21:22:15.647Z"
   },
   {
    "duration": 17,
    "start_time": "2021-12-26T21:22:26.917Z"
   },
   {
    "duration": 25,
    "start_time": "2021-12-26T21:23:53.315Z"
   },
   {
    "duration": 28,
    "start_time": "2021-12-26T21:23:53.625Z"
   },
   {
    "duration": 24,
    "start_time": "2021-12-26T21:23:54.130Z"
   },
   {
    "duration": 29,
    "start_time": "2021-12-26T21:23:54.584Z"
   },
   {
    "duration": 25,
    "start_time": "2021-12-26T21:23:56.999Z"
   },
   {
    "duration": 279,
    "start_time": "2021-12-26T21:35:55.552Z"
   },
   {
    "duration": 6,
    "start_time": "2021-12-26T21:37:58.457Z"
   },
   {
    "duration": 7,
    "start_time": "2021-12-26T21:38:18.673Z"
   },
   {
    "duration": 10,
    "start_time": "2021-12-26T21:38:24.830Z"
   },
   {
    "duration": 5,
    "start_time": "2021-12-26T21:39:17.370Z"
   },
   {
    "duration": 19,
    "start_time": "2021-12-26T21:39:17.996Z"
   },
   {
    "duration": 17,
    "start_time": "2021-12-26T21:39:18.393Z"
   },
   {
    "duration": 19,
    "start_time": "2021-12-26T21:39:18.826Z"
   },
   {
    "duration": 18,
    "start_time": "2021-12-26T21:39:19.156Z"
   },
   {
    "duration": 20,
    "start_time": "2021-12-26T21:39:21.975Z"
   },
   {
    "duration": 17,
    "start_time": "2021-12-26T21:39:22.367Z"
   },
   {
    "duration": 6,
    "start_time": "2021-12-26T21:40:42.736Z"
   },
   {
    "duration": 12,
    "start_time": "2021-12-26T21:40:43.010Z"
   },
   {
    "duration": 5,
    "start_time": "2021-12-26T21:41:16.007Z"
   },
   {
    "duration": 24,
    "start_time": "2021-12-26T21:41:16.944Z"
   },
   {
    "duration": 24,
    "start_time": "2021-12-26T21:41:17.547Z"
   },
   {
    "duration": 28,
    "start_time": "2021-12-26T21:41:18.884Z"
   },
   {
    "duration": 27,
    "start_time": "2021-12-26T21:41:19.422Z"
   },
   {
    "duration": 30,
    "start_time": "2021-12-26T21:41:19.797Z"
   },
   {
    "duration": 28,
    "start_time": "2021-12-26T21:41:20.143Z"
   },
   {
    "duration": 9,
    "start_time": "2021-12-26T21:41:21.061Z"
   },
   {
    "duration": 14,
    "start_time": "2021-12-26T21:41:21.969Z"
   },
   {
    "duration": 18,
    "start_time": "2021-12-26T21:47:43.499Z"
   },
   {
    "duration": 22,
    "start_time": "2021-12-26T21:49:14.429Z"
   },
   {
    "duration": 13,
    "start_time": "2021-12-26T21:49:24.546Z"
   },
   {
    "duration": 17,
    "start_time": "2021-12-26T21:49:26.562Z"
   },
   {
    "duration": 6,
    "start_time": "2021-12-26T22:03:47.272Z"
   },
   {
    "duration": 18,
    "start_time": "2021-12-26T22:06:05.308Z"
   },
   {
    "duration": 19,
    "start_time": "2021-12-26T22:06:16.495Z"
   },
   {
    "duration": 17,
    "start_time": "2021-12-26T22:06:24.225Z"
   },
   {
    "duration": 18,
    "start_time": "2021-12-26T22:06:28.948Z"
   },
   {
    "duration": 24,
    "start_time": "2021-12-26T22:09:26.102Z"
   },
   {
    "duration": 20,
    "start_time": "2021-12-26T22:37:51.917Z"
   },
   {
    "duration": 25,
    "start_time": "2021-12-26T22:37:59.179Z"
   },
   {
    "duration": 18,
    "start_time": "2021-12-26T22:45:02.403Z"
   },
   {
    "duration": 23,
    "start_time": "2021-12-26T22:45:03.252Z"
   },
   {
    "duration": 17,
    "start_time": "2021-12-26T22:45:39.736Z"
   },
   {
    "duration": 25,
    "start_time": "2021-12-26T22:45:40.400Z"
   },
   {
    "duration": 14,
    "start_time": "2021-12-26T22:46:37.865Z"
   },
   {
    "duration": 13,
    "start_time": "2021-12-26T22:46:38.298Z"
   },
   {
    "duration": 5,
    "start_time": "2021-12-26T22:46:39.964Z"
   },
   {
    "duration": 24,
    "start_time": "2021-12-26T22:46:40.680Z"
   },
   {
    "duration": 17,
    "start_time": "2021-12-26T22:46:41.262Z"
   },
   {
    "duration": 23,
    "start_time": "2021-12-26T22:46:42.412Z"
   },
   {
    "duration": 17,
    "start_time": "2021-12-26T22:46:42.841Z"
   },
   {
    "duration": 17,
    "start_time": "2021-12-26T22:52:05.867Z"
   },
   {
    "duration": 14,
    "start_time": "2021-12-26T22:52:22.767Z"
   },
   {
    "duration": 13,
    "start_time": "2021-12-26T22:52:29.287Z"
   },
   {
    "duration": 14,
    "start_time": "2021-12-26T22:53:06.185Z"
   },
   {
    "duration": 10,
    "start_time": "2021-12-26T22:53:33.610Z"
   },
   {
    "duration": 6,
    "start_time": "2021-12-26T22:53:45.916Z"
   },
   {
    "duration": 8,
    "start_time": "2021-12-26T22:54:10.625Z"
   },
   {
    "duration": 6,
    "start_time": "2021-12-26T22:54:22.378Z"
   },
   {
    "duration": 4,
    "start_time": "2021-12-26T22:55:17.217Z"
   },
   {
    "duration": 257,
    "start_time": "2021-12-26T22:55:18.022Z"
   },
   {
    "duration": 3,
    "start_time": "2021-12-26T22:55:25.040Z"
   },
   {
    "duration": 183,
    "start_time": "2021-12-26T22:55:25.860Z"
   },
   {
    "duration": 15,
    "start_time": "2021-12-26T22:55:26.714Z"
   },
   {
    "duration": 32,
    "start_time": "2021-12-26T22:55:27.842Z"
   },
   {
    "duration": 4,
    "start_time": "2021-12-26T22:55:29.613Z"
   },
   {
    "duration": 29,
    "start_time": "2021-12-26T22:55:30.385Z"
   },
   {
    "duration": 5,
    "start_time": "2021-12-26T22:55:31.107Z"
   },
   {
    "duration": 29,
    "start_time": "2021-12-26T22:55:32.036Z"
   },
   {
    "duration": 26,
    "start_time": "2021-12-26T22:55:33.161Z"
   },
   {
    "duration": 29,
    "start_time": "2021-12-26T22:55:33.827Z"
   },
   {
    "duration": 84,
    "start_time": "2021-12-26T22:55:34.733Z"
   },
   {
    "duration": 101,
    "start_time": "2021-12-26T22:55:35.577Z"
   },
   {
    "duration": 76,
    "start_time": "2021-12-26T22:55:36.160Z"
   },
   {
    "duration": 9,
    "start_time": "2021-12-26T22:55:37.798Z"
   },
   {
    "duration": 4,
    "start_time": "2021-12-26T22:55:41.226Z"
   },
   {
    "duration": 519,
    "start_time": "2021-12-26T22:55:42.203Z"
   },
   {
    "duration": 518,
    "start_time": "2021-12-26T22:55:50.367Z"
   },
   {
    "duration": 5,
    "start_time": "2021-12-26T22:56:25.704Z"
   },
   {
    "duration": 7888,
    "start_time": "2021-12-26T22:56:26.271Z"
   },
   {
    "duration": 4,
    "start_time": "2021-12-26T22:56:56.821Z"
   },
   {
    "duration": 21,
    "start_time": "2021-12-26T22:56:57.308Z"
   },
   {
    "duration": 56,
    "start_time": "2021-12-26T22:57:00.174Z"
   },
   {
    "duration": 703,
    "start_time": "2021-12-26T22:57:42.862Z"
   },
   {
    "duration": 202,
    "start_time": "2021-12-26T22:57:45.303Z"
   },
   {
    "duration": 26,
    "start_time": "2021-12-26T22:57:46.136Z"
   },
   {
    "duration": 33,
    "start_time": "2021-12-26T22:57:47.206Z"
   },
   {
    "duration": 5,
    "start_time": "2021-12-26T22:57:48.962Z"
   },
   {
    "duration": 30,
    "start_time": "2021-12-26T22:57:49.938Z"
   },
   {
    "duration": 4,
    "start_time": "2021-12-26T22:57:50.700Z"
   },
   {
    "duration": 30,
    "start_time": "2021-12-26T22:57:51.501Z"
   },
   {
    "duration": 22,
    "start_time": "2021-12-26T22:57:52.606Z"
   },
   {
    "duration": 35,
    "start_time": "2021-12-26T22:57:53.258Z"
   },
   {
    "duration": 88,
    "start_time": "2021-12-26T22:57:53.976Z"
   },
   {
    "duration": 102,
    "start_time": "2021-12-26T22:57:54.632Z"
   },
   {
    "duration": 77,
    "start_time": "2021-12-26T22:57:55.300Z"
   },
   {
    "duration": 8,
    "start_time": "2021-12-26T22:57:56.288Z"
   },
   {
    "duration": 4,
    "start_time": "2021-12-26T22:58:06.171Z"
   },
   {
    "duration": 21,
    "start_time": "2021-12-26T22:58:08.562Z"
   },
   {
    "duration": 56,
    "start_time": "2021-12-26T22:58:09.681Z"
   },
   {
    "duration": 13,
    "start_time": "2021-12-26T22:58:27.858Z"
   },
   {
    "duration": 12,
    "start_time": "2021-12-26T22:58:28.806Z"
   },
   {
    "duration": 5,
    "start_time": "2021-12-26T22:58:29.977Z"
   },
   {
    "duration": 21,
    "start_time": "2021-12-26T22:58:31.879Z"
   },
   {
    "duration": 19,
    "start_time": "2021-12-26T22:58:32.375Z"
   },
   {
    "duration": 19,
    "start_time": "2021-12-26T22:58:32.774Z"
   },
   {
    "duration": 19,
    "start_time": "2021-12-26T22:58:33.157Z"
   },
   {
    "duration": 22,
    "start_time": "2021-12-26T22:58:34.046Z"
   },
   {
    "duration": 19,
    "start_time": "2021-12-26T22:58:34.610Z"
   },
   {
    "duration": 6,
    "start_time": "2021-12-26T22:58:35.532Z"
   },
   {
    "duration": 10,
    "start_time": "2021-12-26T22:58:36.117Z"
   },
   {
    "duration": 14,
    "start_time": "2021-12-26T22:58:44.307Z"
   },
   {
    "duration": 12,
    "start_time": "2021-12-26T22:58:44.720Z"
   },
   {
    "duration": 6,
    "start_time": "2021-12-26T22:58:45.526Z"
   },
   {
    "duration": 24,
    "start_time": "2021-12-26T22:58:46.409Z"
   },
   {
    "duration": 17,
    "start_time": "2021-12-26T22:58:46.833Z"
   },
   {
    "duration": 25,
    "start_time": "2021-12-26T22:58:47.349Z"
   },
   {
    "duration": 19,
    "start_time": "2021-12-26T22:58:47.743Z"
   },
   {
    "duration": 17,
    "start_time": "2021-12-26T22:58:53.875Z"
   },
   {
    "duration": 11,
    "start_time": "2021-12-26T22:58:58.864Z"
   },
   {
    "duration": 6,
    "start_time": "2021-12-26T22:59:02.039Z"
   },
   {
    "duration": 8,
    "start_time": "2021-12-26T22:59:32.003Z"
   },
   {
    "duration": 7,
    "start_time": "2021-12-26T22:59:32.869Z"
   },
   {
    "duration": 86,
    "start_time": "2021-12-26T23:01:58.467Z"
   },
   {
    "duration": 21,
    "start_time": "2021-12-26T23:02:01.128Z"
   },
   {
    "duration": 740,
    "start_time": "2021-12-26T23:16:24.619Z"
   },
   {
    "duration": 186,
    "start_time": "2021-12-26T23:16:27.154Z"
   },
   {
    "duration": 25,
    "start_time": "2021-12-26T23:16:29.119Z"
   },
   {
    "duration": 33,
    "start_time": "2021-12-26T23:16:30.260Z"
   },
   {
    "duration": 4,
    "start_time": "2021-12-26T23:16:32.554Z"
   },
   {
    "duration": 29,
    "start_time": "2021-12-26T23:16:34.815Z"
   },
   {
    "duration": 5,
    "start_time": "2021-12-26T23:16:37.189Z"
   },
   {
    "duration": 28,
    "start_time": "2021-12-26T23:16:38.575Z"
   },
   {
    "duration": 22,
    "start_time": "2021-12-26T23:17:23.790Z"
   },
   {
    "duration": 30,
    "start_time": "2021-12-26T23:17:28.131Z"
   },
   {
    "duration": 88,
    "start_time": "2021-12-26T23:17:37.548Z"
   },
   {
    "duration": 102,
    "start_time": "2021-12-26T23:17:40.373Z"
   },
   {
    "duration": 82,
    "start_time": "2021-12-26T23:17:41.941Z"
   },
   {
    "duration": 9,
    "start_time": "2021-12-26T23:17:46.600Z"
   },
   {
    "duration": 4,
    "start_time": "2021-12-26T23:17:53.495Z"
   },
   {
    "duration": 21,
    "start_time": "2021-12-26T23:17:54.679Z"
   },
   {
    "duration": 56,
    "start_time": "2021-12-26T23:17:56.204Z"
   },
   {
    "duration": 15,
    "start_time": "2021-12-26T23:18:05.492Z"
   },
   {
    "duration": 12,
    "start_time": "2021-12-26T23:18:14.795Z"
   },
   {
    "duration": 4,
    "start_time": "2021-12-26T23:19:05.292Z"
   },
   {
    "duration": 22,
    "start_time": "2021-12-26T23:19:09.725Z"
   },
   {
    "duration": 19,
    "start_time": "2021-12-26T23:19:10.151Z"
   },
   {
    "duration": 20,
    "start_time": "2021-12-26T23:19:10.865Z"
   },
   {
    "duration": 20,
    "start_time": "2021-12-26T23:19:11.215Z"
   },
   {
    "duration": 23,
    "start_time": "2021-12-26T23:19:11.502Z"
   },
   {
    "duration": 23,
    "start_time": "2021-12-26T23:19:11.810Z"
   },
   {
    "duration": 7,
    "start_time": "2021-12-26T23:19:12.817Z"
   },
   {
    "duration": 10,
    "start_time": "2021-12-26T23:19:13.206Z"
   },
   {
    "duration": 15,
    "start_time": "2021-12-26T23:19:24.114Z"
   },
   {
    "duration": 13,
    "start_time": "2021-12-26T23:19:24.741Z"
   },
   {
    "duration": 5,
    "start_time": "2021-12-26T23:19:38.926Z"
   },
   {
    "duration": 25,
    "start_time": "2021-12-26T23:19:44.820Z"
   },
   {
    "duration": 18,
    "start_time": "2021-12-26T23:19:47.525Z"
   },
   {
    "duration": 24,
    "start_time": "2021-12-26T23:20:10.819Z"
   },
   {
    "duration": 18,
    "start_time": "2021-12-26T23:20:12.101Z"
   },
   {
    "duration": 18,
    "start_time": "2021-12-26T23:21:09.900Z"
   },
   {
    "duration": 12,
    "start_time": "2021-12-26T23:21:19.825Z"
   },
   {
    "duration": 6,
    "start_time": "2021-12-26T23:21:21.562Z"
   },
   {
    "duration": 10,
    "start_time": "2021-12-26T23:21:25.846Z"
   },
   {
    "duration": 6,
    "start_time": "2021-12-26T23:21:26.906Z"
   },
   {
    "duration": 781,
    "start_time": "2021-12-27T20:26:06.189Z"
   },
   {
    "duration": 182,
    "start_time": "2021-12-27T20:26:06.973Z"
   },
   {
    "duration": 26,
    "start_time": "2021-12-27T20:26:07.158Z"
   },
   {
    "duration": 56,
    "start_time": "2021-12-27T20:26:07.188Z"
   },
   {
    "duration": 5,
    "start_time": "2021-12-27T20:26:07.247Z"
   },
   {
    "duration": 27,
    "start_time": "2021-12-27T20:26:07.255Z"
   },
   {
    "duration": 4,
    "start_time": "2021-12-27T20:26:07.284Z"
   },
   {
    "duration": 31,
    "start_time": "2021-12-27T20:26:07.317Z"
   },
   {
    "duration": 21,
    "start_time": "2021-12-27T20:26:07.352Z"
   },
   {
    "duration": 63,
    "start_time": "2021-12-27T20:26:07.377Z"
   },
   {
    "duration": 96,
    "start_time": "2021-12-27T20:26:07.443Z"
   },
   {
    "duration": 105,
    "start_time": "2021-12-27T20:26:07.542Z"
   },
   {
    "duration": 84,
    "start_time": "2021-12-27T20:26:07.649Z"
   },
   {
    "duration": 8,
    "start_time": "2021-12-27T20:26:07.736Z"
   },
   {
    "duration": 4,
    "start_time": "2021-12-27T20:26:07.747Z"
   },
   {
    "duration": 22,
    "start_time": "2021-12-27T20:26:07.754Z"
   },
   {
    "duration": 84,
    "start_time": "2021-12-27T20:26:07.778Z"
   },
   {
    "duration": 12,
    "start_time": "2021-12-27T20:26:07.865Z"
   },
   {
    "duration": 41,
    "start_time": "2021-12-27T20:26:07.880Z"
   },
   {
    "duration": 5,
    "start_time": "2021-12-27T20:26:07.923Z"
   },
   {
    "duration": 28,
    "start_time": "2021-12-27T20:26:07.930Z"
   },
   {
    "duration": 17,
    "start_time": "2021-12-27T20:26:07.961Z"
   },
   {
    "duration": 43,
    "start_time": "2021-12-27T20:26:07.981Z"
   },
   {
    "duration": 17,
    "start_time": "2021-12-27T20:26:08.026Z"
   },
   {
    "duration": 19,
    "start_time": "2021-12-27T20:26:08.046Z"
   },
   {
    "duration": 52,
    "start_time": "2021-12-27T20:26:08.067Z"
   },
   {
    "duration": 6,
    "start_time": "2021-12-27T20:26:08.123Z"
   },
   {
    "duration": 11,
    "start_time": "2021-12-27T20:26:08.131Z"
   },
   {
    "duration": 16,
    "start_time": "2021-12-27T20:26:08.144Z"
   },
   {
    "duration": 12,
    "start_time": "2021-12-27T20:26:08.162Z"
   },
   {
    "duration": 43,
    "start_time": "2021-12-27T20:26:08.176Z"
   },
   {
    "duration": 29,
    "start_time": "2021-12-27T20:26:08.221Z"
   },
   {
    "duration": 16,
    "start_time": "2021-12-27T20:26:08.252Z"
   },
   {
    "duration": 52,
    "start_time": "2021-12-27T20:26:08.270Z"
   },
   {
    "duration": 16,
    "start_time": "2021-12-27T20:26:08.324Z"
   },
   {
    "duration": 12,
    "start_time": "2021-12-27T20:26:08.343Z"
   },
   {
    "duration": 5,
    "start_time": "2021-12-27T20:26:08.358Z"
   },
   {
    "duration": 10,
    "start_time": "2021-12-27T20:26:08.366Z"
   },
   {
    "duration": 6,
    "start_time": "2021-12-27T20:26:08.417Z"
   },
   {
    "duration": 21,
    "start_time": "2021-12-27T20:26:36.725Z"
   },
   {
    "duration": 10,
    "start_time": "2021-12-27T20:28:01.089Z"
   },
   {
    "duration": 350,
    "start_time": "2021-12-27T22:25:29.868Z"
   },
   {
    "duration": 555,
    "start_time": "2021-12-27T22:25:36.759Z"
   },
   {
    "duration": 132,
    "start_time": "2021-12-27T22:25:37.948Z"
   },
   {
    "duration": 15,
    "start_time": "2021-12-27T22:25:38.704Z"
   },
   {
    "duration": 9,
    "start_time": "2021-12-27T22:25:39.434Z"
   },
   {
    "duration": 23,
    "start_time": "2021-12-27T22:25:39.889Z"
   },
   {
    "duration": 4,
    "start_time": "2021-12-27T22:25:41.827Z"
   },
   {
    "duration": 20,
    "start_time": "2021-12-27T22:25:42.464Z"
   },
   {
    "duration": 3,
    "start_time": "2021-12-27T22:25:43.019Z"
   },
   {
    "duration": 22,
    "start_time": "2021-12-27T22:25:43.613Z"
   },
   {
    "duration": 22,
    "start_time": "2021-12-27T22:25:44.715Z"
   },
   {
    "duration": 20,
    "start_time": "2021-12-27T22:25:45.487Z"
   },
   {
    "duration": 57,
    "start_time": "2021-12-27T22:25:46.645Z"
   },
   {
    "duration": 69,
    "start_time": "2021-12-27T22:25:47.392Z"
   },
   {
    "duration": 48,
    "start_time": "2021-12-27T22:25:48.194Z"
   },
   {
    "duration": 37,
    "start_time": "2021-12-27T22:25:49.530Z"
   },
   {
    "duration": 3,
    "start_time": "2021-12-27T22:26:11.330Z"
   },
   {
    "duration": 10,
    "start_time": "2021-12-27T22:26:19.150Z"
   },
   {
    "duration": 38,
    "start_time": "2021-12-27T22:26:19.767Z"
   },
   {
    "duration": 9,
    "start_time": "2021-12-27T22:26:24.393Z"
   },
   {
    "duration": 9,
    "start_time": "2021-12-27T22:26:24.943Z"
   },
   {
    "duration": 3,
    "start_time": "2021-12-27T22:26:25.670Z"
   },
   {
    "duration": 15,
    "start_time": "2021-12-27T22:26:26.322Z"
   },
   {
    "duration": 14,
    "start_time": "2021-12-27T22:26:26.620Z"
   },
   {
    "duration": 14,
    "start_time": "2021-12-27T22:26:27.345Z"
   },
   {
    "duration": 14,
    "start_time": "2021-12-27T22:26:27.745Z"
   },
   {
    "duration": 16,
    "start_time": "2021-12-27T22:26:28.074Z"
   },
   {
    "duration": 14,
    "start_time": "2021-12-27T22:26:28.440Z"
   },
   {
    "duration": 5,
    "start_time": "2021-12-27T22:26:29.207Z"
   },
   {
    "duration": 7,
    "start_time": "2021-12-27T22:26:29.607Z"
   },
   {
    "duration": 11,
    "start_time": "2021-12-27T22:26:31.538Z"
   },
   {
    "duration": 9,
    "start_time": "2021-12-27T22:26:32.020Z"
   },
   {
    "duration": 4,
    "start_time": "2021-12-27T22:26:33.974Z"
   },
   {
    "duration": 17,
    "start_time": "2021-12-27T22:26:34.927Z"
   },
   {
    "duration": 11,
    "start_time": "2021-12-27T22:26:35.426Z"
   },
   {
    "duration": 16,
    "start_time": "2021-12-27T22:26:36.016Z"
   },
   {
    "duration": 13,
    "start_time": "2021-12-27T22:26:37.721Z"
   },
   {
    "duration": 7,
    "start_time": "2021-12-27T22:26:39.569Z"
   },
   {
    "duration": 5,
    "start_time": "2021-12-27T22:26:40.396Z"
   },
   {
    "duration": 7,
    "start_time": "2021-12-27T22:26:50.694Z"
   },
   {
    "duration": 6,
    "start_time": "2021-12-27T22:26:52.585Z"
   },
   {
    "duration": 4,
    "start_time": "2021-12-27T22:26:54.983Z"
   }
  ],
  "colab": {
   "collapsed_sections": [
    "E0vqbgi9ay0H",
    "VUC88oWjTJw2"
   ],
   "name": "yandex_music_project_2021.2.ipynb",
   "provenance": []
  },
  "kernelspec": {
   "display_name": "Python 3",
   "language": "python",
   "name": "python3"
  },
  "language_info": {
   "codemirror_mode": {
    "name": "ipython",
    "version": 3
   },
   "file_extension": ".py",
   "mimetype": "text/x-python",
   "name": "python",
   "nbconvert_exporter": "python",
   "pygments_lexer": "ipython3",
   "version": "3.13.2"
  },
  "toc": {
   "base_numbering": 1,
   "nav_menu": {},
   "number_sections": true,
   "sideBar": true,
   "skip_h1_title": true,
   "title_cell": "Table of Contents",
   "title_sidebar": "Contents",
   "toc_cell": false,
   "toc_position": {},
   "toc_section_display": true,
   "toc_window_display": true
  }
 },
 "nbformat": 4,
 "nbformat_minor": 1
}
